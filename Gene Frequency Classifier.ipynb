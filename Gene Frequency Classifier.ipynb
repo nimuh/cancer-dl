{
 "cells": [
  {
   "cell_type": "code",
   "execution_count": 1,
   "metadata": {},
   "outputs": [],
   "source": [
    "import pandas as pd\n",
    "import numpy as np\n",
    "from matplotlib import pyplot as plt\n",
    "from tensorflow.keras.layers import Dense, Input\n",
    "from tensorflow.keras.layers import BatchNormalization, Dropout\n",
    "from tensorflow.keras.models import Model\n",
    "from tensorflow.keras.optimizers import RMSprop\n",
    "from tensorflow.keras.metrics import MeanSquaredError\n",
    "from tensorflow.keras.models import load_model\n",
    "from tensorflow.keras.callbacks import ReduceLROnPlateau, ModelCheckpoint\n",
    "from tensorflow.keras.metrics import Recall, Precision\n",
    "from tensorflow import math\n",
    "from numpy.random import seed\n",
    "from tensorflow import random"
   ]
  },
  {
   "cell_type": "code",
   "execution_count": 2,
   "metadata": {},
   "outputs": [],
   "source": [
    "gene_encodings_cancer = pd.read_csv('Gene_freq_encoding_FULL.csv')\n",
    "gene_encodings_healthy = pd.read_csv('Healthy_Gene_freq_encoding.csv')"
   ]
  },
  {
   "cell_type": "code",
   "execution_count": 3,
   "metadata": {},
   "outputs": [
    {
     "data": {
      "text/plain": [
       "(5987, 30401)"
      ]
     },
     "execution_count": 3,
     "metadata": {},
     "output_type": "execute_result"
    }
   ],
   "source": [
    "gene_encodings_cancer.shape"
   ]
  },
  {
   "cell_type": "code",
   "execution_count": 4,
   "metadata": {},
   "outputs": [
    {
     "data": {
      "text/plain": [
       "(2504, 30547)"
      ]
     },
     "execution_count": 4,
     "metadata": {},
     "output_type": "execute_result"
    }
   ],
   "source": [
    "gene_encodings_healthy.shape"
   ]
  },
  {
   "cell_type": "code",
   "execution_count": 5,
   "metadata": {},
   "outputs": [
    {
     "name": "stderr",
     "output_type": "stream",
     "text": [
      "/Users/nima/miniconda3/lib/python3.7/site-packages/ipykernel_launcher.py:1: FutureWarning: Sorting because non-concatenation axis is not aligned. A future version\n",
      "of pandas will change to not sort by default.\n",
      "\n",
      "To accept the future behavior, pass 'sort=False'.\n",
      "\n",
      "To retain the current behavior and silence the warning, pass 'sort=True'.\n",
      "\n",
      "  \"\"\"Entry point for launching an IPython kernel.\n"
     ]
    }
   ],
   "source": [
    "all_patient_genes = pd.concat([gene_encodings_cancer, gene_encodings_healthy]).dropna(axis='columns')"
   ]
  },
  {
   "cell_type": "code",
   "execution_count": null,
   "metadata": {},
   "outputs": [],
   "source": []
  },
  {
   "cell_type": "code",
   "execution_count": null,
   "metadata": {},
   "outputs": [],
   "source": []
  },
  {
   "cell_type": "code",
   "execution_count": 6,
   "metadata": {},
   "outputs": [],
   "source": [
    "cancer_types = set(all_patient_genes['CancerType'])"
   ]
  },
  {
   "cell_type": "code",
   "execution_count": null,
   "metadata": {},
   "outputs": [],
   "source": []
  },
  {
   "cell_type": "code",
   "execution_count": 7,
   "metadata": {},
   "outputs": [
    {
     "data": {
      "text/plain": [
       "{'LGG-US': 0,\n",
       " 'OV-US': 1,\n",
       " 'PRAD-US': 2,\n",
       " 'GBM-US': 3,\n",
       " 'COAD-US': 4,\n",
       " 'BLCA-US': 5,\n",
       " 'LUSC-US': 6,\n",
       " 'KIRC-US': 7,\n",
       " 'Healthy': 8,\n",
       " 'SKCM-US': 9,\n",
       " 'BRCA-US': 10,\n",
       " 'THCA-US': 11,\n",
       " 'UCEC-US': 12}"
      ]
     },
     "execution_count": 7,
     "metadata": {},
     "output_type": "execute_result"
    }
   ],
   "source": [
    "label_dict = {}\n",
    "for i, ct in enumerate(cancer_types):\n",
    "    label_dict[ct] = i\n",
    "label_dict"
   ]
  },
  {
   "cell_type": "code",
   "execution_count": 8,
   "metadata": {},
   "outputs": [],
   "source": [
    "cancer_labels = list(label_dict.keys())"
   ]
  },
  {
   "cell_type": "code",
   "execution_count": 9,
   "metadata": {},
   "outputs": [],
   "source": [
    "all_patient_genes = all_patient_genes.sample(frac=1)"
   ]
  },
  {
   "cell_type": "code",
   "execution_count": 10,
   "metadata": {},
   "outputs": [],
   "source": [
    "gene_labels = [label for label in all_patient_genes.columns if label.startswith(\"ENSG\")]"
   ]
  },
  {
   "cell_type": "code",
   "execution_count": 11,
   "metadata": {},
   "outputs": [],
   "source": [
    "datax = all_patient_genes[gene_labels].to_numpy()"
   ]
  },
  {
   "cell_type": "code",
   "execution_count": 12,
   "metadata": {},
   "outputs": [],
   "source": [
    "def to_categorical(val, n_class=13):\n",
    "    result = np.zeros(n_class)\n",
    "    result[val] = 1\n",
    "    return result"
   ]
  },
  {
   "cell_type": "code",
   "execution_count": 13,
   "metadata": {},
   "outputs": [],
   "source": [
    "datay = [to_categorical(label_dict[t]) for t in list(all_patient_genes['CancerType'])]\n",
    "datay = np.array(datay)"
   ]
  },
  {
   "cell_type": "code",
   "execution_count": 14,
   "metadata": {},
   "outputs": [],
   "source": [
    "seed(1)\n",
    "random.set_seed(2)"
   ]
  },
  {
   "cell_type": "markdown",
   "metadata": {},
   "source": [
    "# Model\n",
    "- Try other initializers"
   ]
  },
  {
   "cell_type": "code",
   "execution_count": 15,
   "metadata": {},
   "outputs": [],
   "source": [
    "patient_genes = Input(shape=(datax.shape[1],))\n",
    "layer_1 = Dense(500, activation='relu', kernel_initializer='glorot_normal')(patient_genes)\n",
    "layer_1_bn = BatchNormalization()(layer_1)\n",
    "layer_2 = Dense(150, activation='relu', kernel_initializer='glorot_normal')(layer_1_bn)\n",
    "layer_2_bn = BatchNormalization()(layer_2)\n",
    "layer_3 = Dense(13, activation='relu', kernel_initializer='glorot_normal')(layer_2_bn)\n",
    "layer_3_bn = BatchNormalization()(layer_3)\n",
    "layer_4 = Dense(13, activation='relu', kernel_initializer='glorot_normal')(layer_3_bn)\n",
    "layer_4_bn = BatchNormalization()(layer_4)\n",
    "layer_5 = Dense(150, activation='relu', kernel_initializer='glorot_normal')(layer_4_bn)\n",
    "layer_5_bn = BatchNormalization()(layer_5)\n",
    "layer_6 = Dense(500, activation='relu', kernel_initializer='glorot_normal')(layer_5_bn)\n",
    "layer_6_bn = BatchNormalization()(layer_6)\n",
    "layer_7 = Dense(datax.shape[1], activation='linear', kernel_initializer='glorot_normal', name='ae_output')(layer_6_bn)\n",
    "\n",
    "# Input from layer 3 (latent representations)\n",
    "layer_9 = Dense(13, activation='relu', kernel_initializer='glorot_normal')(layer_3)\n",
    "layer_9_do = Dropout(0.1)(layer_9)\n",
    "layer_9_bn = BatchNormalization()(layer_9_do)\n",
    "\n",
    "layer_10 = Dense(25, activation='relu', kernel_initializer='glorot_normal')(layer_9_bn)\n",
    "layer_10_do = Dropout(0.1)(layer_10)\n",
    "layer_10_bn = BatchNormalization()(layer_10_do)\n",
    "\n",
    "layer_11 = Dense(50, activation='relu', kernel_initializer='glorot_normal')(layer_10_bn)\n",
    "layer_11_do = Dropout(0.1)(layer_11)\n",
    "layer_11_bn = BatchNormalization()(layer_11_do)\n",
    "\n",
    "layer_12 = Dense(75, activation='relu', kernel_initializer='glorot_normal')(layer_11_bn)\n",
    "layer_12_do = Dropout(0.1)(layer_12)\n",
    "layer_12_bn = BatchNormalization()(layer_12_do)\n",
    "\n",
    "layer_13 = Dense(100, activation='relu', kernel_initializer='glorot_normal')(layer_12_bn)\n",
    "layer_13_do = Dropout(0.1)(layer_13)\n",
    "layer_13_bn = BatchNormalization()(layer_13_do)\n",
    "\n",
    "layer_14 = Dense(75, activation='relu', kernel_initializer='glorot_normal')(layer_13_bn)\n",
    "layer_14_do = Dropout(0.1)(layer_14)\n",
    "layer_14_bn = BatchNormalization()(layer_14_do)\n",
    "\n",
    "layer_15 = Dense(50, activation='relu', kernel_initializer='glorot_normal')(layer_14_bn)\n",
    "layer_15_do = Dropout(0.1)(layer_15)\n",
    "layer_15_bn = BatchNormalization()(layer_15_do)\n",
    "\n",
    "layer_16 = Dense(25, activation='relu', kernel_initializer='glorot_normal')(layer_15_bn)\n",
    "layer_16_do = Dropout(0.1)(layer_16)\n",
    "layer_16_bn = BatchNormalization()(layer_16_do)\n",
    "\n",
    "layer_17 = Dense(13, activation='softmax', kernel_initializer='glorot_normal', name='cancer_output')(layer_16_bn)"
   ]
  },
  {
   "cell_type": "code",
   "execution_count": 16,
   "metadata": {},
   "outputs": [],
   "source": [
    "model = Model(inputs=[patient_genes],\n",
    "              outputs=[layer_7, layer_17],\n",
    "             )"
   ]
  },
  {
   "cell_type": "code",
   "execution_count": 17,
   "metadata": {},
   "outputs": [],
   "source": [
    "losses = {'cancer_output': 'categorical_crossentropy',\n",
    "          'ae_output': 'mse',\n",
    "         }\n",
    "\n",
    "opt = RMSprop(learning_rate=0.001, rho=0.8, momentum=0.3)"
   ]
  },
  {
   "cell_type": "code",
   "execution_count": 18,
   "metadata": {},
   "outputs": [],
   "source": [
    "model.compile(optimizer=opt,\n",
    "              loss=losses,\n",
    "              metrics={'cancer_output': ['accuracy', Recall(), Precision()], \n",
    "                       'ae_output': 'mse'},\n",
    "             )"
   ]
  },
  {
   "cell_type": "code",
   "execution_count": 19,
   "metadata": {},
   "outputs": [],
   "source": [
    "full_raw_data = [(datax[i],datay[i]) for i in range(datay.shape[0])]\n",
    "np.random.shuffle(full_raw_data)\n",
    "datax_train = np.array([np.array(x) for (x, _) in full_raw_data])\n",
    "datay_train = np.array([np.array(y) for (_, y) in full_raw_data])"
   ]
  },
  {
   "cell_type": "code",
   "execution_count": 20,
   "metadata": {},
   "outputs": [],
   "source": [
    "stand_datax_train = datax_train / np.max(datax_train)"
   ]
  },
  {
   "cell_type": "code",
   "execution_count": 21,
   "metadata": {},
   "outputs": [],
   "source": [
    "reduce_lr = ReduceLROnPlateau(verbose=1)\n",
    "model_checkpoint = ModelCheckpoint(filepath='weights.{epoch:02d}--{val_cancer_output_accuracy:.2f}.hdf5',\n",
    "                                   save_weights_only=True,\n",
    "                                   monitor='val_cancer_output_accuracy',\n",
    "                                   mode='max',\n",
    "                                   save_best_only=True,\n",
    "                                  )"
   ]
  },
  {
   "cell_type": "code",
   "execution_count": 23,
   "metadata": {},
   "outputs": [],
   "source": [
    "model.load_weights('weights.50--0.59.hdf5')"
   ]
  },
  {
   "cell_type": "code",
   "execution_count": 26,
   "metadata": {
    "scrolled": true
   },
   "outputs": [
    {
     "name": "stdout",
     "output_type": "stream",
     "text": [
      "Train on 6392 samples, validate on 1599 samples\n",
      "Epoch 1/50\n",
      "6392/6392 [==============================] - 40s 6ms/sample - loss: 1.4201 - ae_output_loss: 3.2124e-06 - cancer_output_loss: 1.4193 - ae_output_mse: 3.2140e-06 - cancer_output_accuracy: 0.5421 - cancer_output_recall: 0.3900 - cancer_output_precision: 0.8629 - val_loss: 0.9418 - val_ae_output_loss: 3.6655e-06 - val_cancer_output_loss: 0.9419 - val_ae_output_mse: 3.6653e-06 - val_cancer_output_accuracy: 0.7036 - val_cancer_output_recall: 0.4715 - val_cancer_output_precision: 0.9667\n",
      "Epoch 2/50\n",
      "6392/6392 [==============================] - 36s 6ms/sample - loss: 0.9350 - ae_output_loss: 3.0304e-06 - cancer_output_loss: 0.9353 - ae_output_mse: 3.0305e-06 - cancer_output_accuracy: 0.6724 - cancer_output_recall: 0.5304 - cancer_output_precision: 0.8776 - val_loss: 0.9296 - val_ae_output_loss: 2.8676e-06 - val_cancer_output_loss: 0.9298 - val_ae_output_mse: 2.8673e-06 - val_cancer_output_accuracy: 0.7048 - val_cancer_output_recall: 0.5866 - val_cancer_output_precision: 0.8114\n",
      "Epoch 3/50\n",
      "6392/6392 [==============================] - 37s 6ms/sample - loss: 0.8519 - ae_output_loss: 3.0174e-06 - cancer_output_loss: 0.8516 - ae_output_mse: 3.0194e-06 - cancer_output_accuracy: 0.7087 - cancer_output_recall: 0.5726 - cancer_output_precision: 0.8743 - val_loss: 0.8182 - val_ae_output_loss: 3.6836e-06 - val_cancer_output_loss: 0.8183 - val_ae_output_mse: 3.6835e-06 - val_cancer_output_accuracy: 0.7417 - val_cancer_output_recall: 0.6048 - val_cancer_output_precision: 0.8880\n",
      "Epoch 4/50\n",
      "6392/6392 [==============================] - 37s 6ms/sample - loss: 0.7782 - ae_output_loss: 3.1065e-06 - cancer_output_loss: 0.7785 - ae_output_mse: 3.1076e-06 - cancer_output_accuracy: 0.7345 - cancer_output_recall: 0.6037 - cancer_output_precision: 0.8691 - val_loss: 0.8228 - val_ae_output_loss: 2.9965e-06 - val_cancer_output_loss: 0.8230 - val_ae_output_mse: 2.9963e-06 - val_cancer_output_accuracy: 0.6961 - val_cancer_output_recall: 0.5872 - val_cancer_output_precision: 0.8751\n",
      "Epoch 5/50\n",
      "6392/6392 [==============================] - 39s 6ms/sample - loss: 0.7515 - ae_output_loss: 3.0475e-06 - cancer_output_loss: 0.7522 - ae_output_mse: 3.0483e-06 - cancer_output_accuracy: 0.7444 - cancer_output_recall: 0.6275 - cancer_output_precision: 0.8613 - val_loss: 0.7708 - val_ae_output_loss: 2.5447e-06 - val_cancer_output_loss: 0.7709 - val_ae_output_mse: 2.5443e-06 - val_cancer_output_accuracy: 0.7567 - val_cancer_output_recall: 0.6523 - val_cancer_output_precision: 0.8663\n",
      "Epoch 6/50\n",
      "6392/6392 [==============================] - 39s 6ms/sample - loss: 0.7018 - ae_output_loss: 3.0913e-06 - cancer_output_loss: 0.7017 - ae_output_mse: 3.0906e-06 - cancer_output_accuracy: 0.7680 - cancer_output_recall: 0.6616 - cancer_output_precision: 0.8677 - val_loss: 0.6722 - val_ae_output_loss: 2.6022e-06 - val_cancer_output_loss: 0.6723 - val_ae_output_mse: 2.6019e-06 - val_cancer_output_accuracy: 0.7636 - val_cancer_output_recall: 0.7148 - val_cancer_output_precision: 0.8435\n",
      "Epoch 7/50\n",
      "6392/6392 [==============================] - 39s 6ms/sample - loss: 0.6656 - ae_output_loss: 3.3753e-06 - cancer_output_loss: 0.6652 - ae_output_mse: 3.3767e-06 - cancer_output_accuracy: 0.7794 - cancer_output_recall: 0.6959 - cancer_output_precision: 0.8542 - val_loss: 0.7880 - val_ae_output_loss: 2.7640e-06 - val_cancer_output_loss: 0.7880 - val_ae_output_mse: 2.7635e-06 - val_cancer_output_accuracy: 0.7405 - val_cancer_output_recall: 0.6867 - val_cancer_output_precision: 0.8038\n",
      "Epoch 8/50\n",
      "6392/6392 [==============================] - 39s 6ms/sample - loss: 0.6368 - ae_output_loss: 3.4116e-06 - cancer_output_loss: 0.6367 - ae_output_mse: 3.4132e-06 - cancer_output_accuracy: 0.7916 - cancer_output_recall: 0.7217 - cancer_output_precision: 0.8579 - val_loss: 0.7150 - val_ae_output_loss: 2.6584e-06 - val_cancer_output_loss: 0.7150 - val_ae_output_mse: 2.6580e-06 - val_cancer_output_accuracy: 0.7742 - val_cancer_output_recall: 0.7373 - val_cancer_output_precision: 0.8137\n",
      "Epoch 9/50\n",
      "6392/6392 [==============================] - 40s 6ms/sample - loss: 0.6297 - ae_output_loss: 3.3261e-06 - cancer_output_loss: 0.6298 - ae_output_mse: 3.3123e-06 - cancer_output_accuracy: 0.7932 - cancer_output_recall: 0.7319 - cancer_output_precision: 0.8547 - val_loss: 0.6786 - val_ae_output_loss: 2.7218e-06 - val_cancer_output_loss: 0.6786 - val_ae_output_mse: 2.7210e-06 - val_cancer_output_accuracy: 0.7905 - val_cancer_output_recall: 0.7617 - val_cancer_output_precision: 0.8224\n",
      "Epoch 10/50\n",
      "6392/6392 [==============================] - 39s 6ms/sample - loss: 0.5927 - ae_output_loss: 3.4166e-06 - cancer_output_loss: 0.5926 - ae_output_mse: 3.4168e-06 - cancer_output_accuracy: 0.8101 - cancer_output_recall: 0.7522 - cancer_output_precision: 0.8621 - val_loss: 0.8608 - val_ae_output_loss: 3.6175e-06 - val_cancer_output_loss: 0.8608 - val_ae_output_mse: 3.6166e-06 - val_cancer_output_accuracy: 0.7036 - val_cancer_output_recall: 0.6742 - val_cancer_output_precision: 0.7429\n",
      "Epoch 11/50\n",
      "6392/6392 [==============================] - 40s 6ms/sample - loss: 0.5711 - ae_output_loss: 3.4086e-06 - cancer_output_loss: 0.5715 - ae_output_mse: 3.4097e-06 - cancer_output_accuracy: 0.8204 - cancer_output_recall: 0.7711 - cancer_output_precision: 0.8631 - val_loss: 0.9183 - val_ae_output_loss: 3.4492e-06 - val_cancer_output_loss: 0.9183 - val_ae_output_mse: 3.4490e-06 - val_cancer_output_accuracy: 0.6692 - val_cancer_output_recall: 0.6366 - val_cancer_output_precision: 0.7179\n",
      "Epoch 12/50\n",
      "6392/6392 [==============================] - 40s 6ms/sample - loss: 0.5910 - ae_output_loss: 3.4747e-06 - cancer_output_loss: 0.5912 - ae_output_mse: 3.4764e-06 - cancer_output_accuracy: 0.8151 - cancer_output_recall: 0.7702 - cancer_output_precision: 0.8574 - val_loss: 0.7261 - val_ae_output_loss: 2.7499e-06 - val_cancer_output_loss: 0.7262 - val_ae_output_mse: 2.7493e-06 - val_cancer_output_accuracy: 0.7842 - val_cancer_output_recall: 0.7655 - val_cancer_output_precision: 0.8138\n",
      "Epoch 13/50\n",
      "6392/6392 [==============================] - 41s 6ms/sample - loss: 0.5509 - ae_output_loss: 3.2704e-06 - cancer_output_loss: 0.5511 - ae_output_mse: 3.2715e-06 - cancer_output_accuracy: 0.8229 - cancer_output_recall: 0.7794 - cancer_output_precision: 0.8649 - val_loss: 0.6844 - val_ae_output_loss: 2.7065e-06 - val_cancer_output_loss: 0.6845 - val_ae_output_mse: 2.7061e-06 - val_cancer_output_accuracy: 0.7924 - val_cancer_output_recall: 0.7699 - val_cancer_output_precision: 0.8174\n",
      "Epoch 14/50\n",
      "6392/6392 [==============================] - 40s 6ms/sample - loss: 0.4931 - ae_output_loss: 3.2951e-06 - cancer_output_loss: 0.4929 - ae_output_mse: 3.2950e-06 - cancer_output_accuracy: 0.8470 - cancer_output_recall: 0.8109 - cancer_output_precision: 0.8819 - val_loss: 0.8875 - val_ae_output_loss: 3.2046e-06 - val_cancer_output_loss: 0.8877 - val_ae_output_mse: 3.2043e-06 - val_cancer_output_accuracy: 0.7230 - val_cancer_output_recall: 0.6979 - val_cancer_output_precision: 0.7401\n",
      "Epoch 15/50\n",
      "6392/6392 [==============================] - 40s 6ms/sample - loss: 0.4994 - ae_output_loss: 3.0826e-06 - cancer_output_loss: 0.5001 - ae_output_mse: 3.0734e-06 - cancer_output_accuracy: 0.8490 - cancer_output_recall: 0.8146 - cancer_output_precision: 0.8779 - val_loss: 0.8560 - val_ae_output_loss: 2.7663e-06 - val_cancer_output_loss: 0.8562 - val_ae_output_mse: 2.7659e-06 - val_cancer_output_accuracy: 0.7398 - val_cancer_output_recall: 0.7230 - val_cancer_output_precision: 0.7585\n",
      "Epoch 16/50\n",
      "6368/6392 [============================>.] - ETA: 0s - loss: 0.5067 - ae_output_loss: 3.2297e-06 - cancer_output_loss: 0.5067 - ae_output_mse: 3.2297e-06 - cancer_output_accuracy: 0.8438 - cancer_output_recall: 0.8100 - cancer_output_precision: 0.8742\n",
      "Epoch 00016: ReduceLROnPlateau reducing learning rate to 0.00010000000474974513.\n",
      "6392/6392 [==============================] - 41s 6ms/sample - loss: 0.5066 - ae_output_loss: 3.2239e-06 - cancer_output_loss: 0.5066 - ae_output_mse: 3.2253e-06 - cancer_output_accuracy: 0.8437 - cancer_output_recall: 0.8101 - cancer_output_precision: 0.8744 - val_loss: 0.7006 - val_ae_output_loss: 2.8834e-06 - val_cancer_output_loss: 0.7005 - val_ae_output_mse: 2.8822e-06 - val_cancer_output_accuracy: 0.8105 - val_cancer_output_recall: 0.7886 - val_cancer_output_precision: 0.8263\n"
     ]
    },
    {
     "name": "stdout",
     "output_type": "stream",
     "text": [
      "Epoch 17/50\n",
      "6392/6392 [==============================] - 40s 6ms/sample - loss: 0.4520 - ae_output_loss: 3.1250e-06 - cancer_output_loss: 0.4520 - ae_output_mse: 3.1254e-06 - cancer_output_accuracy: 0.8647 - cancer_output_recall: 0.8356 - cancer_output_precision: 0.8897 - val_loss: 0.7249 - val_ae_output_loss: 2.7492e-06 - val_cancer_output_loss: 0.7250 - val_ae_output_mse: 2.7485e-06 - val_cancer_output_accuracy: 0.7830 - val_cancer_output_recall: 0.7649 - val_cancer_output_precision: 0.7973\n",
      "Epoch 18/50\n",
      "6392/6392 [==============================] - 41s 6ms/sample - loss: 0.4491 - ae_output_loss: 3.1768e-06 - cancer_output_loss: 0.4491 - ae_output_mse: 3.1785e-06 - cancer_output_accuracy: 0.8681 - cancer_output_recall: 0.8381 - cancer_output_precision: 0.8933 - val_loss: 0.7703 - val_ae_output_loss: 2.7520e-06 - val_cancer_output_loss: 0.7704 - val_ae_output_mse: 2.7510e-06 - val_cancer_output_accuracy: 0.7667 - val_cancer_output_recall: 0.7492 - val_cancer_output_precision: 0.7789\n",
      "Epoch 19/50\n",
      "6392/6392 [==============================] - 40s 6ms/sample - loss: 0.4494 - ae_output_loss: 3.2840e-06 - cancer_output_loss: 0.4491 - ae_output_mse: 3.2832e-06 - cancer_output_accuracy: 0.8661 - cancer_output_recall: 0.8359 - cancer_output_precision: 0.8920 - val_loss: 0.7211 - val_ae_output_loss: 2.7975e-06 - val_cancer_output_loss: 0.7211 - val_ae_output_mse: 2.7966e-06 - val_cancer_output_accuracy: 0.7849 - val_cancer_output_recall: 0.7730 - val_cancer_output_precision: 0.8000\n",
      "Epoch 20/50\n",
      "6392/6392 [==============================] - 38s 6ms/sample - loss: 0.4097 - ae_output_loss: 3.1861e-06 - cancer_output_loss: 0.4097 - ae_output_mse: 3.1880e-06 - cancer_output_accuracy: 0.8797 - cancer_output_recall: 0.8511 - cancer_output_precision: 0.9059 - val_loss: 0.6907 - val_ae_output_loss: 2.7275e-06 - val_cancer_output_loss: 0.6908 - val_ae_output_mse: 2.7264e-06 - val_cancer_output_accuracy: 0.7999 - val_cancer_output_recall: 0.7880 - val_cancer_output_precision: 0.8129\n",
      "Epoch 21/50\n",
      "6392/6392 [==============================] - 39s 6ms/sample - loss: 0.3995 - ae_output_loss: 3.2030e-06 - cancer_output_loss: 0.3996 - ae_output_mse: 3.2040e-06 - cancer_output_accuracy: 0.8805 - cancer_output_recall: 0.8545 - cancer_output_precision: 0.9057 - val_loss: 0.7413 - val_ae_output_loss: 2.7924e-06 - val_cancer_output_loss: 0.7414 - val_ae_output_mse: 2.7914e-06 - val_cancer_output_accuracy: 0.7817 - val_cancer_output_recall: 0.7630 - val_cancer_output_precision: 0.7938\n",
      "Epoch 22/50\n",
      "6392/6392 [==============================] - 41s 6ms/sample - loss: 0.4161 - ae_output_loss: 3.2398e-06 - cancer_output_loss: 0.4170 - ae_output_mse: 3.2415e-06 - cancer_output_accuracy: 0.8755 - cancer_output_recall: 0.8509 - cancer_output_precision: 0.9006 - val_loss: 0.7060 - val_ae_output_loss: 2.7690e-06 - val_cancer_output_loss: 0.7060 - val_ae_output_mse: 2.7679e-06 - val_cancer_output_accuracy: 0.8011 - val_cancer_output_recall: 0.7899 - val_cancer_output_precision: 0.8117\n",
      "Epoch 23/50\n",
      "6392/6392 [==============================] - 42s 7ms/sample - loss: 0.4071 - ae_output_loss: 3.2504e-06 - cancer_output_loss: 0.4068 - ae_output_mse: 3.2515e-06 - cancer_output_accuracy: 0.8791 - cancer_output_recall: 0.8583 - cancer_output_precision: 0.9056 - val_loss: 0.7830 - val_ae_output_loss: 2.7630e-06 - val_cancer_output_loss: 0.7831 - val_ae_output_mse: 2.7620e-06 - val_cancer_output_accuracy: 0.7742 - val_cancer_output_recall: 0.7617 - val_cancer_output_precision: 0.7868\n",
      "Epoch 24/50\n",
      "6392/6392 [==============================] - 41s 6ms/sample - loss: 0.3967 - ae_output_loss: 3.2564e-06 - cancer_output_loss: 0.3971 - ae_output_mse: 3.2570e-06 - cancer_output_accuracy: 0.8831 - cancer_output_recall: 0.8614 - cancer_output_precision: 0.9074 - val_loss: 0.7508 - val_ae_output_loss: 2.7722e-06 - val_cancer_output_loss: 0.7509 - val_ae_output_mse: 2.7713e-06 - val_cancer_output_accuracy: 0.7855 - val_cancer_output_recall: 0.7686 - val_cancer_output_precision: 0.7981\n",
      "Epoch 25/50\n",
      "6392/6392 [==============================] - 49s 8ms/sample - loss: 0.3986 - ae_output_loss: 3.3137e-06 - cancer_output_loss: 0.3991 - ae_output_mse: 3.3155e-06 - cancer_output_accuracy: 0.8856 - cancer_output_recall: 0.8601 - cancer_output_precision: 0.9068 - val_loss: 0.7586 - val_ae_output_loss: 2.8278e-06 - val_cancer_output_loss: 0.7587 - val_ae_output_mse: 2.8268e-06 - val_cancer_output_accuracy: 0.7867 - val_cancer_output_recall: 0.7742 - val_cancer_output_precision: 0.7997\n",
      "Epoch 26/50\n",
      "6368/6392 [============================>.] - ETA: 0s - loss: 0.3824 - ae_output_loss: 3.3434e-06 - cancer_output_loss: 0.3824 - ae_output_mse: 3.3434e-06 - cancer_output_accuracy: 0.8909 - cancer_output_recall: 0.8675 - cancer_output_precision: 0.9097\n",
      "Epoch 00026: ReduceLROnPlateau reducing learning rate to 1.0000000474974514e-05.\n",
      "6392/6392 [==============================] - 43s 7ms/sample - loss: 0.3828 - ae_output_loss: 3.3446e-06 - cancer_output_loss: 0.3829 - ae_output_mse: 3.3443e-06 - cancer_output_accuracy: 0.8905 - cancer_output_recall: 0.8672 - cancer_output_precision: 0.9096 - val_loss: 0.7273 - val_ae_output_loss: 2.8045e-06 - val_cancer_output_loss: 0.7273 - val_ae_output_mse: 2.8035e-06 - val_cancer_output_accuracy: 0.7942 - val_cancer_output_recall: 0.7811 - val_cancer_output_precision: 0.8084\n",
      "Epoch 27/50\n",
      "6392/6392 [==============================] - 42s 7ms/sample - loss: 0.4025 - ae_output_loss: 3.2541e-06 - cancer_output_loss: 0.4026 - ae_output_mse: 3.2552e-06 - cancer_output_accuracy: 0.8798 - cancer_output_recall: 0.8592 - cancer_output_precision: 0.9023 - val_loss: 0.7354 - val_ae_output_loss: 2.7706e-06 - val_cancer_output_loss: 0.7354 - val_ae_output_mse: 2.7697e-06 - val_cancer_output_accuracy: 0.7936 - val_cancer_output_recall: 0.7824 - val_cancer_output_precision: 0.8045\n",
      "Epoch 28/50\n",
      "6392/6392 [==============================] - 42s 7ms/sample - loss: 0.3978 - ae_output_loss: 3.3008e-06 - cancer_output_loss: 0.3975 - ae_output_mse: 3.3013e-06 - cancer_output_accuracy: 0.8860 - cancer_output_recall: 0.8598 - cancer_output_precision: 0.9078 - val_loss: 0.7413 - val_ae_output_loss: 2.7596e-06 - val_cancer_output_loss: 0.7414 - val_ae_output_mse: 2.7585e-06 - val_cancer_output_accuracy: 0.7936 - val_cancer_output_recall: 0.7786 - val_cancer_output_precision: 0.8048\n",
      "Epoch 29/50\n",
      "6392/6392 [==============================] - 42s 7ms/sample - loss: 0.3628 - ae_output_loss: 3.2773e-06 - cancer_output_loss: 0.3629 - ae_output_mse: 3.2774e-06 - cancer_output_accuracy: 0.8941 - cancer_output_recall: 0.8731 - cancer_output_precision: 0.9145 - val_loss: 0.7433 - val_ae_output_loss: 2.7564e-06 - val_cancer_output_loss: 0.7434 - val_ae_output_mse: 2.7554e-06 - val_cancer_output_accuracy: 0.7930 - val_cancer_output_recall: 0.7805 - val_cancer_output_precision: 0.8026\n",
      "Epoch 30/50\n",
      "6392/6392 [==============================] - 42s 7ms/sample - loss: 0.3739 - ae_output_loss: 3.2801e-06 - cancer_output_loss: 0.3741 - ae_output_mse: 3.2774e-06 - cancer_output_accuracy: 0.8906 - cancer_output_recall: 0.8719 - cancer_output_precision: 0.9065 - val_loss: 0.7470 - val_ae_output_loss: 2.7727e-06 - val_cancer_output_loss: 0.7471 - val_ae_output_mse: 2.7717e-06 - val_cancer_output_accuracy: 0.7917 - val_cancer_output_recall: 0.7805 - val_cancer_output_precision: 0.8015\n",
      "Epoch 31/50\n",
      "6392/6392 [==============================] - 42s 7ms/sample - loss: 0.3681 - ae_output_loss: 3.3028e-06 - cancer_output_loss: 0.3686 - ae_output_mse: 3.3029e-06 - cancer_output_accuracy: 0.8957 - cancer_output_recall: 0.8709 - cancer_output_precision: 0.9158 - val_loss: 0.7296 - val_ae_output_loss: 2.7885e-06 - val_cancer_output_loss: 0.7296 - val_ae_output_mse: 2.7876e-06 - val_cancer_output_accuracy: 0.8011 - val_cancer_output_recall: 0.7899 - val_cancer_output_precision: 0.8117\n",
      "Epoch 32/50\n",
      "6392/6392 [==============================] - 42s 7ms/sample - loss: 0.3824 - ae_output_loss: 3.2890e-06 - cancer_output_loss: 0.3823 - ae_output_mse: 3.2901e-06 - cancer_output_accuracy: 0.8886 - cancer_output_recall: 0.8689 - cancer_output_precision: 0.9083 - val_loss: 0.7392 - val_ae_output_loss: 2.8098e-06 - val_cancer_output_loss: 0.7392 - val_ae_output_mse: 2.8087e-06 - val_cancer_output_accuracy: 0.7955 - val_cancer_output_recall: 0.7849 - val_cancer_output_precision: 0.8050\n"
     ]
    },
    {
     "name": "stdout",
     "output_type": "stream",
     "text": [
      "Epoch 33/50\n",
      "6392/6392 [==============================] - 42s 7ms/sample - loss: 0.3819 - ae_output_loss: 3.2308e-06 - cancer_output_loss: 0.3836 - ae_output_mse: 3.2316e-06 - cancer_output_accuracy: 0.8849 - cancer_output_recall: 0.8689 - cancer_output_precision: 0.9060 - val_loss: 0.7445 - val_ae_output_loss: 2.7598e-06 - val_cancer_output_loss: 0.7446 - val_ae_output_mse: 2.7591e-06 - val_cancer_output_accuracy: 0.7917 - val_cancer_output_recall: 0.7774 - val_cancer_output_precision: 0.8009\n",
      "Epoch 34/50\n",
      "6392/6392 [==============================] - 42s 6ms/sample - loss: 0.3708 - ae_output_loss: 3.3049e-06 - cancer_output_loss: 0.3726 - ae_output_mse: 3.3036e-06 - cancer_output_accuracy: 0.8878 - cancer_output_recall: 0.8600 - cancer_output_precision: 0.9110 - val_loss: 0.7409 - val_ae_output_loss: 2.7925e-06 - val_cancer_output_loss: 0.7410 - val_ae_output_mse: 2.7916e-06 - val_cancer_output_accuracy: 0.7967 - val_cancer_output_recall: 0.7861 - val_cancer_output_precision: 0.8068\n",
      "Epoch 35/50\n",
      "6392/6392 [==============================] - 42s 7ms/sample - loss: 0.3797 - ae_output_loss: 3.2816e-06 - cancer_output_loss: 0.3794 - ae_output_mse: 3.2831e-06 - cancer_output_accuracy: 0.8903 - cancer_output_recall: 0.8694 - cancer_output_precision: 0.9096 - val_loss: 0.7378 - val_ae_output_loss: 2.7668e-06 - val_cancer_output_loss: 0.7378 - val_ae_output_mse: 2.7658e-06 - val_cancer_output_accuracy: 0.7980 - val_cancer_output_recall: 0.7830 - val_cancer_output_precision: 0.8067\n",
      "Epoch 36/50\n",
      "6368/6392 [============================>.] - ETA: 0s - loss: 0.3918 - ae_output_loss: 3.2235e-06 - cancer_output_loss: 0.3918 - ae_output_mse: 3.2235e-06 - cancer_output_accuracy: 0.8849 - cancer_output_recall: 0.8642 - cancer_output_precision: 0.9029\n",
      "Epoch 00036: ReduceLROnPlateau reducing learning rate to 1.0000000656873453e-06.\n",
      "6392/6392 [==============================] - 42s 7ms/sample - loss: 0.3929 - ae_output_loss: 3.2232e-06 - cancer_output_loss: 0.3932 - ae_output_mse: 3.2233e-06 - cancer_output_accuracy: 0.8847 - cancer_output_recall: 0.8639 - cancer_output_precision: 0.9026 - val_loss: 0.7412 - val_ae_output_loss: 2.7985e-06 - val_cancer_output_loss: 0.7412 - val_ae_output_mse: 2.7975e-06 - val_cancer_output_accuracy: 0.7955 - val_cancer_output_recall: 0.7824 - val_cancer_output_precision: 0.8071\n",
      "Epoch 37/50\n",
      "6392/6392 [==============================] - 41s 6ms/sample - loss: 0.3774 - ae_output_loss: 3.2978e-06 - cancer_output_loss: 0.3773 - ae_output_mse: 3.2958e-06 - cancer_output_accuracy: 0.8883 - cancer_output_recall: 0.8689 - cancer_output_precision: 0.9109 - val_loss: 0.7396 - val_ae_output_loss: 2.7716e-06 - val_cancer_output_loss: 0.7396 - val_ae_output_mse: 2.7706e-06 - val_cancer_output_accuracy: 0.7924 - val_cancer_output_recall: 0.7799 - val_cancer_output_precision: 0.8030\n",
      "Epoch 38/50\n",
      "6392/6392 [==============================] - 42s 7ms/sample - loss: 0.4004 - ae_output_loss: 3.2939e-06 - cancer_output_loss: 0.4002 - ae_output_mse: 3.2949e-06 - cancer_output_accuracy: 0.8811 - cancer_output_recall: 0.8567 - cancer_output_precision: 0.9023 - val_loss: 0.7349 - val_ae_output_loss: 2.7762e-06 - val_cancer_output_loss: 0.7350 - val_ae_output_mse: 2.7753e-06 - val_cancer_output_accuracy: 0.7986 - val_cancer_output_recall: 0.7899 - val_cancer_output_precision: 0.8101\n",
      "Epoch 39/50\n",
      "6392/6392 [==============================] - 42s 7ms/sample - loss: 0.3709 - ae_output_loss: 3.2375e-06 - cancer_output_loss: 0.3706 - ae_output_mse: 3.2381e-06 - cancer_output_accuracy: 0.8919 - cancer_output_recall: 0.8708 - cancer_output_precision: 0.9131 - val_loss: 0.7438 - val_ae_output_loss: 2.8025e-06 - val_cancer_output_loss: 0.7438 - val_ae_output_mse: 2.8015e-06 - val_cancer_output_accuracy: 0.7955 - val_cancer_output_recall: 0.7842 - val_cancer_output_precision: 0.8054\n",
      "Epoch 40/50\n",
      "6392/6392 [==============================] - 43s 7ms/sample - loss: 0.3947 - ae_output_loss: 3.3089e-06 - cancer_output_loss: 0.3944 - ae_output_mse: 3.3100e-06 - cancer_output_accuracy: 0.8911 - cancer_output_recall: 0.8684 - cancer_output_precision: 0.9109 - val_loss: 0.7494 - val_ae_output_loss: 2.7275e-06 - val_cancer_output_loss: 0.7495 - val_ae_output_mse: 2.7267e-06 - val_cancer_output_accuracy: 0.7936 - val_cancer_output_recall: 0.7749 - val_cancer_output_precision: 0.8009\n",
      "Epoch 41/50\n",
      "6392/6392 [==============================] - 42s 7ms/sample - loss: 0.3907 - ae_output_loss: 3.3512e-06 - cancer_output_loss: 0.3913 - ae_output_mse: 3.3529e-06 - cancer_output_accuracy: 0.8856 - cancer_output_recall: 0.8644 - cancer_output_precision: 0.9056 - val_loss: 0.7461 - val_ae_output_loss: 2.7787e-06 - val_cancer_output_loss: 0.7462 - val_ae_output_mse: 2.7778e-06 - val_cancer_output_accuracy: 0.7936 - val_cancer_output_recall: 0.7799 - val_cancer_output_precision: 0.8014\n",
      "Epoch 42/50\n",
      "6392/6392 [==============================] - 43s 7ms/sample - loss: 0.4009 - ae_output_loss: 3.2667e-06 - cancer_output_loss: 0.4006 - ae_output_mse: 3.2671e-06 - cancer_output_accuracy: 0.8869 - cancer_output_recall: 0.8662 - cancer_output_precision: 0.9071 - val_loss: 0.7475 - val_ae_output_loss: 2.7801e-06 - val_cancer_output_loss: 0.7476 - val_ae_output_mse: 2.7791e-06 - val_cancer_output_accuracy: 0.7949 - val_cancer_output_recall: 0.7792 - val_cancer_output_precision: 0.8034\n",
      "Epoch 43/50\n",
      "6392/6392 [==============================] - 42s 7ms/sample - loss: 0.3789 - ae_output_loss: 3.2484e-06 - cancer_output_loss: 0.3786 - ae_output_mse: 3.2488e-06 - cancer_output_accuracy: 0.8911 - cancer_output_recall: 0.8676 - cancer_output_precision: 0.9117 - val_loss: 0.7512 - val_ae_output_loss: 2.7425e-06 - val_cancer_output_loss: 0.7513 - val_ae_output_mse: 2.7416e-06 - val_cancer_output_accuracy: 0.7892 - val_cancer_output_recall: 0.7767 - val_cancer_output_precision: 0.7997\n",
      "Epoch 44/50\n",
      "6392/6392 [==============================] - 43s 7ms/sample - loss: 0.3778 - ae_output_loss: 3.3341e-06 - cancer_output_loss: 0.3777 - ae_output_mse: 3.3356e-06 - cancer_output_accuracy: 0.8922 - cancer_output_recall: 0.8719 - cancer_output_precision: 0.9142 - val_loss: 0.7448 - val_ae_output_loss: 2.7563e-06 - val_cancer_output_loss: 0.7449 - val_ae_output_mse: 2.7554e-06 - val_cancer_output_accuracy: 0.7955 - val_cancer_output_recall: 0.7849 - val_cancer_output_precision: 0.8055\n",
      "Epoch 45/50\n",
      "6392/6392 [==============================] - 42s 7ms/sample - loss: 0.3764 - ae_output_loss: 3.3000e-06 - cancer_output_loss: 0.3769 - ae_output_mse: 3.3007e-06 - cancer_output_accuracy: 0.8869 - cancer_output_recall: 0.8650 - cancer_output_precision: 0.9079 - val_loss: 0.7409 - val_ae_output_loss: 2.7977e-06 - val_cancer_output_loss: 0.7409 - val_ae_output_mse: 2.7966e-06 - val_cancer_output_accuracy: 0.7980 - val_cancer_output_recall: 0.7861 - val_cancer_output_precision: 0.8084\n",
      "Epoch 46/50\n",
      "6368/6392 [============================>.] - ETA: 0s - loss: 0.3574 - ae_output_loss: 3.3467e-06 - cancer_output_loss: 0.3574 - ae_output_mse: 3.3467e-06 - cancer_output_accuracy: 0.8990 - cancer_output_recall: 0.8792 - cancer_output_precision: 0.9206\n",
      "Epoch 00046: ReduceLROnPlateau reducing learning rate to 1.0000001111620805e-07.\n",
      "6392/6392 [==============================] - 43s 7ms/sample - loss: 0.3579 - ae_output_loss: 3.3426e-06 - cancer_output_loss: 0.3581 - ae_output_mse: 3.3436e-06 - cancer_output_accuracy: 0.8986 - cancer_output_recall: 0.8784 - cancer_output_precision: 0.9200 - val_loss: 0.7517 - val_ae_output_loss: 2.7921e-06 - val_cancer_output_loss: 0.7518 - val_ae_output_mse: 2.7912e-06 - val_cancer_output_accuracy: 0.7899 - val_cancer_output_recall: 0.7755 - val_cancer_output_precision: 0.8000\n",
      "Epoch 47/50\n",
      "6392/6392 [==============================] - 42s 7ms/sample - loss: 0.3836 - ae_output_loss: 3.2627e-06 - cancer_output_loss: 0.3833 - ae_output_mse: 3.2633e-06 - cancer_output_accuracy: 0.8875 - cancer_output_recall: 0.8676 - cancer_output_precision: 0.9090 - val_loss: 0.7500 - val_ae_output_loss: 2.7514e-06 - val_cancer_output_loss: 0.7501 - val_ae_output_mse: 2.7505e-06 - val_cancer_output_accuracy: 0.7924 - val_cancer_output_recall: 0.7799 - val_cancer_output_precision: 0.8024\n",
      "Epoch 48/50\n"
     ]
    },
    {
     "name": "stdout",
     "output_type": "stream",
     "text": [
      "6392/6392 [==============================] - 42s 7ms/sample - loss: 0.4083 - ae_output_loss: 3.2472e-06 - cancer_output_loss: 0.4083 - ae_output_mse: 3.2482e-06 - cancer_output_accuracy: 0.8809 - cancer_output_recall: 0.8597 - cancer_output_precision: 0.9005 - val_loss: 0.7509 - val_ae_output_loss: 2.7403e-06 - val_cancer_output_loss: 0.7510 - val_ae_output_mse: 2.7393e-06 - val_cancer_output_accuracy: 0.7880 - val_cancer_output_recall: 0.7749 - val_cancer_output_precision: 0.7994\n",
      "Epoch 49/50\n",
      "6392/6392 [==============================] - 42s 7ms/sample - loss: 0.4188 - ae_output_loss: 3.2755e-06 - cancer_output_loss: 0.4186 - ae_output_mse: 3.2750e-06 - cancer_output_accuracy: 0.8744 - cancer_output_recall: 0.8520 - cancer_output_precision: 0.8951 - val_loss: 0.7391 - val_ae_output_loss: 2.7652e-06 - val_cancer_output_loss: 0.7392 - val_ae_output_mse: 2.7642e-06 - val_cancer_output_accuracy: 0.7992 - val_cancer_output_recall: 0.7899 - val_cancer_output_precision: 0.8112\n",
      "Epoch 50/50\n",
      "6392/6392 [==============================] - 42s 7ms/sample - loss: 0.3896 - ae_output_loss: 3.2257e-06 - cancer_output_loss: 0.3893 - ae_output_mse: 3.2262e-06 - cancer_output_accuracy: 0.8888 - cancer_output_recall: 0.8697 - cancer_output_precision: 0.9057 - val_loss: 0.7491 - val_ae_output_loss: 2.7328e-06 - val_cancer_output_loss: 0.7492 - val_ae_output_mse: 2.7319e-06 - val_cancer_output_accuracy: 0.7911 - val_cancer_output_recall: 0.7786 - val_cancer_output_precision: 0.8022\n"
     ]
    }
   ],
   "source": [
    "history = model.fit(stand_datax_train[500:],\n",
    "                   {\"ae_output\": stand_datax_train[500:], \"cancer_output\": datay_train[500:]},\n",
    "                   batch_size=32, \n",
    "                   epochs=50,\n",
    "                   validation_split=0.2,\n",
    "                   callbacks=[reduce_lr, model_checkpoint],\n",
    "                   )"
   ]
  },
  {
   "cell_type": "code",
   "execution_count": 27,
   "metadata": {},
   "outputs": [
    {
     "name": "stdout",
     "output_type": "stream",
     "text": [
      "\r",
      "500/1 [========================================================================================================================================================================================================================================================================================================================================================================================================================================================================================================================================================================================================================================================================================================================================================================================================================================================================================================================================================================================================================================================================================================================================================================================================================================================================================================================================================================================================================================================================================================================================================================================================================================================================================================================================================================================================================================================================================================================================================================================================================================================================================================================================================================================================================================================================================================================================================================================================================================================================================================================================================================================================================================================================================================================================================================================================================================================================================================================================================================================================================================================================================================================================================================================================================================================================================================================================================================================================================================================================================================================================================================================================================================================================================================================================================================================================================================================================================================================================================================================================================================================================================================================================================================================================================================================================================================================================================================================================================================================================================================================================================================================================================================================================================================================================================================================================================================================================================================================================================================================================================================================================================================================================================================================================================================================================================================================================================================================================================================================================================================================================================================================================================================================================================================================================================================================================================================================================================================================================================================================================================================================================================================================================================================================================================================================================================================================================================================================================================================================================================================================================================================================================================================================================================================================================================================================================================================================================================================================================================================================================================================================================================================================================================================================================================================================================================================================================================================================================================================================================================================================================================================================================================================================================================================================================================================================================================================================================================================================================================================================================================================================================================================================================================================================================================================================================================================================================================================================================================================================================================================================================================================================================================================================================================================================================================================================================================================================================================================================================================================================================================================================================================================================================================================================================================================================================================================================================================================================================================================================================================================================================================================================================================================================================================================================================================================================================================================================================================================================================================================================================================================================================================================================================================================================================================================================================================================================================================================================================================================================================================================================================================================================================================================================================================================================================================================================================================================================================================================================================================================================================================================================================================================================================================================================================================================================================================================================================================================================================================================================================================================================================================================================================================================================================================================================================================================================================================================================================================================================================================================================================================================================================================================================================================================================================================================================================================================================================================================================================================================================================================================================================================================================================================================================================================================================================================================================================================================================================================================================================================================================================================================================================================================================================================================================================================================================================================================================================================================================================================================================================================================================================================================================================================================================================================================================================================================================================================================================================================================================================================================================================================================================================================================================================================================================================================================================================================================================================================================================================================================================================================================================================================================================================================================================================================================================================================================================================================================================================================================================================================================================================================================================================================================================================================================================================================================================================================================================================================================================================================================================================================================================================================================================================================] - 0s 725us/sample - loss: 0.5365 - ae_output_loss: 2.0739e-06 - cancer_output_loss: 0.6586 - ae_output_mse: 2.0813e-06 - cancer_output_accuracy: 0.8260 - cancer_output_recall: 0.8200 - cancer_output_precision: 0.8384\n"
     ]
    },
    {
     "data": {
      "text/plain": [
       "[0.6646555171012879,\n",
       " 2.073875e-06,\n",
       " 0.658644,\n",
       " 2.0812622e-06,\n",
       " 0.826,\n",
       " 0.82,\n",
       " 0.8384458]"
      ]
     },
     "execution_count": 27,
     "metadata": {},
     "output_type": "execute_result"
    }
   ],
   "source": [
    "# Evaluate full network\n",
    "model.evaluate(stand_datax_train[:500],\n",
    "               {\"ae_output\": stand_datax_train[:500], \"cancer_output\": datay_train[:500]},\n",
    "               )"
   ]
  },
  {
   "cell_type": "code",
   "execution_count": 35,
   "metadata": {},
   "outputs": [],
   "source": [
    "model.save_weights('final_epoch_weights_test_0.82.hdf5')"
   ]
  },
  {
   "cell_type": "code",
   "execution_count": 29,
   "metadata": {},
   "outputs": [
    {
     "name": "stdout",
     "output_type": "stream",
     "text": [
      "WARNING:tensorflow:Layer dense is casting an input tensor from dtype float64 to the layer's dtype of float32, which is new behavior in TensorFlow 2.  The layer has dtype float32 because it's dtype defaults to floatx.\n",
      "\n",
      "If you intended to run this layer in float32, you can safely ignore this warning. If in doubt, this warning is likely only an issue if you are porting a TensorFlow 1.X model to TensorFlow 2.\n",
      "\n",
      "To change all layers to have dtype float64 by default, call `tf.keras.backend.set_floatx('float64')`. To change just this layer, pass dtype='float64' to the layer constructor. If you are the author of this layer, you can disable autocasting by passing autocast=False to the base Layer constructor.\n",
      "\n"
     ]
    }
   ],
   "source": [
    "y_pred_cancers = math.round(model(stand_datax_train)[1])"
   ]
  },
  {
   "cell_type": "code",
   "execution_count": 30,
   "metadata": {},
   "outputs": [],
   "source": [
    "preds = [cancer_labels[np.argmax(y_preds)] for y_preds in y_pred_cancers]\n",
    "true_labels = [cancer_labels[np.argmax(datay)] for datay in datay_train]"
   ]
  },
  {
   "cell_type": "code",
   "execution_count": 58,
   "metadata": {},
   "outputs": [],
   "source": [
    "recall = history.history['cancer_output_recall']\n",
    "precision = history.history['cancer_output_precision']"
   ]
  },
  {
   "cell_type": "code",
   "execution_count": 53,
   "metadata": {},
   "outputs": [],
   "source": [
    "r_x_p = [r*p for r, p in zip(recall, precision)]\n",
    "r_plus_p = [r+p for r,p in zip(recall, precision)]\n",
    "full = [t/b for t,b in zip(r_x_p, r_plus_p)]\n",
    "f1 = [2*f for f in full]"
   ]
  },
  {
   "cell_type": "code",
   "execution_count": 66,
   "metadata": {},
   "outputs": [
    {
     "data": {
      "text/plain": [
       "0.8987594842910767"
      ]
     },
     "execution_count": 66,
     "metadata": {},
     "output_type": "execute_result"
    }
   ],
   "source": [
    "max(f1)"
   ]
  },
  {
   "cell_type": "code",
   "execution_count": 65,
   "metadata": {},
   "outputs": [
    {
     "data": {
      "text/plain": [
       "[<matplotlib.lines.Line2D at 0x656a05150>]"
      ]
     },
     "execution_count": 65,
     "metadata": {},
     "output_type": "execute_result"
    },
    {
     "data": {
      "image/png": "[encoded data removed]",
      "text/plain": [
       "<Figure size 432x288 with 1 Axes>"
      ]
     },
     "metadata": {
      "needs_background": "light"
     },
     "output_type": "display_data"
    }
   ],
   "source": [
    "plt.title('F1 Score')\n",
    "plt.xlabel('epoch')\n",
    "plt.ylabel('F1')\n",
    "plt.plot(f1)"
   ]
  },
  {
   "cell_type": "code",
   "execution_count": 31,
   "metadata": {},
   "outputs": [],
   "source": [
    "from sklearn.metrics import confusion_matrix\n",
    "from seaborn import heatmap"
   ]
  },
  {
   "cell_type": "code",
   "execution_count": 32,
   "metadata": {},
   "outputs": [],
   "source": [
    "cnf_mat = confusion_matrix(true_labels, preds, labels=cancer_labels)"
   ]
  },
  {
   "cell_type": "code",
   "execution_count": 33,
   "metadata": {},
   "outputs": [],
   "source": [
    "df_cm = pd.DataFrame(cnf_mat, index = [i for i in cancer_labels],\n",
    "                  columns = [i for i in cancer_labels])"
   ]
  },
  {
   "cell_type": "code",
   "execution_count": 34,
   "metadata": {},
   "outputs": [
    {
     "data": {
      "text/plain": [
       "<matplotlib.axes._subplots.AxesSubplot at 0x6554ff790>"
      ]
     },
     "execution_count": 34,
     "metadata": {},
     "output_type": "execute_result"
    },
    {
     "data": {
      "image/png": "[encoded data removed]",
      "text/plain": [
       "<Figure size 720x504 with 2 Axes>"
      ]
     },
     "metadata": {
      "needs_background": "light"
     },
     "output_type": "display_data"
    }
   ],
   "source": [
    "plt.figure(figsize=(10,7))\n",
    "heatmap(df_cm, cmap='OrRd', linewidths=.5, annot=True)"
   ]
  },
  {
   "cell_type": "markdown",
   "metadata": {},
   "source": [
    "# Interpretability (In progress)"
   ]
  },
  {
   "cell_type": "code",
   "execution_count": null,
   "metadata": {},
   "outputs": [],
   "source": [
    "# SHAP libraries for neural network\n",
    "from shap import GradientExplainer\n",
    "from shap import decision_plot, summary_plot, multioutput_decision_plot"
   ]
  },
  {
   "cell_type": "markdown",
   "metadata": {},
   "source": [
    "### Might want to try other backgrounds. Plots are not making sense.\n",
    "### Try LIME"
   ]
  },
  {
   "cell_type": "code",
   "execution_count": null,
   "metadata": {
    "scrolled": true
   },
   "outputs": [],
   "source": [
    "background = np.zeros((13, stand_datax_train.shape[1]))\n",
    "summary_background = np.zeros((1, stand_datax_train.shape[1]))\n",
    "index_to_explain = 23"
   ]
  },
  {
   "cell_type": "code",
   "execution_count": null,
   "metadata": {},
   "outputs": [],
   "source": [
    "explainer = GradientExplainer(full_nn, background)\n",
    "to_explain = stand_datax_train[index_to_explain]"
   ]
  },
  {
   "cell_type": "code",
   "execution_count": null,
   "metadata": {},
   "outputs": [],
   "source": [
    "print(to_explain)\n",
    "print(datay_train[index_to_explain])"
   ]
  },
  {
   "cell_type": "code",
   "execution_count": null,
   "metadata": {},
   "outputs": [],
   "source": [
    "list(cancer_types)[np.argmax(datay_train[index_to_explain])]"
   ]
  },
  {
   "cell_type": "code",
   "execution_count": null,
   "metadata": {},
   "outputs": [],
   "source": [
    "prediction_ov = full_nn(stand_datax_train[index_to_explain].reshape(1, stand_datax_train[1].shape[0]))"
   ]
  },
  {
   "cell_type": "code",
   "execution_count": null,
   "metadata": {},
   "outputs": [],
   "source": [
    "list(cancer_types)[np.argmax(prediction_ov)]"
   ]
  },
  {
   "cell_type": "markdown",
   "metadata": {},
   "source": [
    "## Explain a patient"
   ]
  },
  {
   "cell_type": "code",
   "execution_count": null,
   "metadata": {},
   "outputs": [],
   "source": [
    "to_explain = to_explain.reshape(1, to_explain.shape[0])"
   ]
  },
  {
   "cell_type": "code",
   "execution_count": null,
   "metadata": {},
   "outputs": [],
   "source": [
    "# cannot do entire dataset. Pull one example of interest and perform analysis\n",
    "shap_vals = explainer.shap_values(X=to_explain, ranked_outputs=None)"
   ]
  },
  {
   "cell_type": "code",
   "execution_count": null,
   "metadata": {
    "scrolled": false
   },
   "outputs": [],
   "source": [
    "# this won't make sense for one example. Used for whole dataset.\n",
    "summary_plot(shap_vals, \n",
    "             to_explain, \n",
    "             gene_names, \n",
    "             class_names=list(cancer_types), \n",
    "             color=plt.get_cmap(\"tab20c\"),\n",
    "             max_display=30\n",
    "            )"
   ]
  },
  {
   "cell_type": "code",
   "execution_count": null,
   "metadata": {},
   "outputs": [],
   "source": [
    "def get_gene_names(gene_codes, ensemble_obj=None):\n",
    "    gene_names = []\n",
    "    for gene in gene_codes:\n",
    "        try:\n",
    "            gene_info = ensemble_obj.gene_by_id(gene_id=gene)\n",
    "            gene_names.append(gene_info.gene_name + '(' + gene_info.biotype + ')')\n",
    "        except ValueError:\n",
    "            gene_names.append('GENE NOT FOUND')\n",
    "    return gene_names"
   ]
  },
  {
   "cell_type": "code",
   "execution_count": null,
   "metadata": {},
   "outputs": [],
   "source": [
    "# get class names\n",
    "list(cancer_types)"
   ]
  },
  {
   "cell_type": "code",
   "execution_count": null,
   "metadata": {},
   "outputs": [],
   "source": [
    "np.unique(to_explain[0], return_index=True, return_counts=True)"
   ]
  },
  {
   "cell_type": "code",
   "execution_count": null,
   "metadata": {},
   "outputs": [],
   "source": []
  },
  {
   "cell_type": "code",
   "execution_count": null,
   "metadata": {},
   "outputs": [],
   "source": [
    "from pyensembl import EnsemblRelease"
   ]
  },
  {
   "cell_type": "code",
   "execution_count": null,
   "metadata": {},
   "outputs": [],
   "source": [
    "gene_names = get_gene_names(gene_labels, ensemble_obj=EnsemblRelease(77))"
   ]
  },
  {
   "cell_type": "code",
   "execution_count": null,
   "metadata": {},
   "outputs": [],
   "source": [
    "cancer_predictions = full_nn(stand_datax_train)"
   ]
  },
  {
   "cell_type": "code",
   "execution_count": null,
   "metadata": {},
   "outputs": [],
   "source": [
    "np.argmax(cancer_predictions[index_to_explain])"
   ]
  },
  {
   "cell_type": "code",
   "execution_count": null,
   "metadata": {},
   "outputs": [],
   "source": []
  },
  {
   "cell_type": "code",
   "execution_count": null,
   "metadata": {},
   "outputs": [],
   "source": [
    "multioutput_decision_plot(base_values=list(background),\n",
    "                          shap_values=shap_vals,\n",
    "                          row_index=index_to_explain,\n",
    "                          feature_names=gene_names,\n",
    "                          highlight=[np.argmax(cancer_predictions[index_to_explain])],\n",
    "                          legend_labels=list(cancer_types),\n",
    "                         )"
   ]
  },
  {
   "cell_type": "code",
   "execution_count": null,
   "metadata": {},
   "outputs": [],
   "source": []
  },
  {
   "cell_type": "code",
   "execution_count": null,
   "metadata": {},
   "outputs": [],
   "source": []
  }
 ],
 "metadata": {
  "kernelspec": {
   "display_name": "Python 3",
   "language": "python",
   "name": "python3"
  },
  "language_info": {
   "codemirror_mode": {
    "name": "ipython",
    "version": 3
   },
   "file_extension": ".py",
   "mimetype": "text/x-python",
   "name": "python",
   "nbconvert_exporter": "python",
   "pygments_lexer": "ipython3",
   "version": "3.7.4"
  }
 },
 "nbformat": 4,
 "nbformat_minor": 4
}
