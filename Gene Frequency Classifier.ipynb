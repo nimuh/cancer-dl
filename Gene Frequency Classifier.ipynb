{
 "cells": [
  {
   "cell_type": "code",
   "execution_count": 1,
   "metadata": {},
   "outputs": [],
   "source": [
    "import pandas as pd\n",
    "import numpy as np\n",
    "from matplotlib import pyplot as plt\n",
    "from tensorflow.keras.layers import Dense, Input, Activation\n",
    "from tensorflow.keras.layers import BatchNormalization, Dropout\n",
    "from tensorflow.keras.models import Model\n",
    "from tensorflow.keras.optimizers import RMSprop\n",
    "from tensorflow.keras.metrics import AUC\n",
    "from tensorflow.keras.metrics import MeanSquaredError\n",
    "from tensorflow.keras import Sequential\n",
    "from tensorflow.keras.regularizers import l2\n",
    "from tensorflow.keras.models import load_model\n",
    "from tensorflow.keras.callbacks import ReduceLROnPlateau\n",
    "from tensorflow.keras.models import clone_model, save_model, load_model\n",
    "from tensorflow.keras.utils import plot_model\n",
    "from tensorflow.keras.metrics import Recall, Precision\n",
    "from tensorflow import math\n",
    "from numpy.random import seed\n",
    "from tensorflow import random"
   ]
  },
  {
   "cell_type": "code",
   "execution_count": 2,
   "metadata": {},
   "outputs": [],
   "source": [
    "gene_encodings_cancer = pd.read_csv('Gene_freq_encoding_FULL.csv')\n",
    "gene_encodings_healthy = pd.read_csv('Healthy_Gene_freq_encoding.csv')"
   ]
  },
  {
   "cell_type": "code",
   "execution_count": 3,
   "metadata": {},
   "outputs": [
    {
     "data": {
      "text/plain": [
       "(5987, 30401)"
      ]
     },
     "execution_count": 3,
     "metadata": {},
     "output_type": "execute_result"
    }
   ],
   "source": [
    "gene_encodings_cancer.shape"
   ]
  },
  {
   "cell_type": "code",
   "execution_count": 4,
   "metadata": {},
   "outputs": [
    {
     "data": {
      "text/plain": [
       "(2504, 30547)"
      ]
     },
     "execution_count": 4,
     "metadata": {},
     "output_type": "execute_result"
    }
   ],
   "source": [
    "gene_encodings_healthy.shape"
   ]
  },
  {
   "cell_type": "code",
   "execution_count": 5,
   "metadata": {},
   "outputs": [],
   "source": [
    "all_patient_genes = pd.concat([gene_encodings_cancer, gene_encodings_healthy]).dropna(axis='columns')"
   ]
  },
  {
   "cell_type": "code",
   "execution_count": 6,
   "metadata": {},
   "outputs": [],
   "source": [
    "cancer_types = set(all_patient_genes['CancerType'])"
   ]
  },
  {
   "cell_type": "code",
   "execution_count": 7,
   "metadata": {},
   "outputs": [
    {
     "data": {
      "text/plain": [
       "{'KIRC-US': 0,\n",
       " 'UCEC-US': 1,\n",
       " 'THCA-US': 2,\n",
       " 'Healthy': 3,\n",
       " 'GBM-US': 4,\n",
       " 'BRCA-US': 5,\n",
       " 'LUSC-US': 6,\n",
       " 'SKCM-US': 7,\n",
       " 'LGG-US': 8,\n",
       " 'PRAD-US': 9,\n",
       " 'COAD-US': 10,\n",
       " 'BLCA-US': 11,\n",
       " 'OV-US': 12}"
      ]
     },
     "execution_count": 7,
     "metadata": {},
     "output_type": "execute_result"
    }
   ],
   "source": [
    "label_dict = {}\n",
    "for i, ct in enumerate(cancer_types):\n",
    "    label_dict[ct] = i\n",
    "label_dict"
   ]
  },
  {
   "cell_type": "code",
   "execution_count": 8,
   "metadata": {},
   "outputs": [],
   "source": [
    "all_patient_genes = all_patient_genes.sample(frac=1)"
   ]
  },
  {
   "cell_type": "code",
   "execution_count": 9,
   "metadata": {},
   "outputs": [
    {
     "data": {
      "text/plain": [
       "30085"
      ]
     },
     "execution_count": 9,
     "metadata": {},
     "output_type": "execute_result"
    }
   ],
   "source": [
    "gene_labels = [label for label in all_patient_genes.columns if label.startswith(\"ENSG\")]\n",
    "len(gene_labels)"
   ]
  },
  {
   "cell_type": "code",
   "execution_count": 10,
   "metadata": {},
   "outputs": [
    {
     "data": {
      "text/plain": [
       "(8491, 30085)"
      ]
     },
     "execution_count": 10,
     "metadata": {},
     "output_type": "execute_result"
    }
   ],
   "source": [
    "datax = all_patient_genes[gene_labels].to_numpy()\n",
    "datax.shape"
   ]
  },
  {
   "cell_type": "code",
   "execution_count": 11,
   "metadata": {},
   "outputs": [],
   "source": [
    "def to_categorical(val, n_class=13):\n",
    "    result = np.zeros(n_class)\n",
    "    result[val] = 1\n",
    "    return result"
   ]
  },
  {
   "cell_type": "code",
   "execution_count": 12,
   "metadata": {},
   "outputs": [
    {
     "data": {
      "text/plain": [
       "array([[0., 1., 0., ..., 0., 0., 0.],\n",
       "       [0., 0., 0., ..., 1., 0., 0.],\n",
       "       [0., 0., 0., ..., 0., 0., 0.],\n",
       "       ...,\n",
       "       [0., 0., 0., ..., 0., 0., 0.],\n",
       "       [0., 0., 0., ..., 0., 0., 0.],\n",
       "       [0., 0., 1., ..., 0., 0., 0.]])"
      ]
     },
     "execution_count": 12,
     "metadata": {},
     "output_type": "execute_result"
    }
   ],
   "source": [
    "datay = [to_categorical(label_dict[t]) for t in list(all_patient_genes['CancerType'])]\n",
    "datay = np.array(datay)\n",
    "datay"
   ]
  },
  {
   "cell_type": "code",
   "execution_count": 13,
   "metadata": {},
   "outputs": [],
   "source": [
    "seed(1)\n",
    "random.set_seed(2)"
   ]
  },
  {
   "cell_type": "markdown",
   "metadata": {},
   "source": [
    "# Model\n",
    "- Try other initializers"
   ]
  },
  {
   "cell_type": "code",
   "execution_count": 14,
   "metadata": {},
   "outputs": [],
   "source": [
    "patient_genes = Input(shape=(datax.shape[1],))\n",
    "layer_1 = Dense(500, activation='relu')(patient_genes)\n",
    "layer_1_bn = BatchNormalization()(layer_1)\n",
    "layer_2 = Dense(150, activation='relu')(layer_1_bn)\n",
    "layer_2_bn = BatchNormalization()(layer_2)\n",
    "layer_3 = Dense(13, activation='relu')(layer_2_bn)\n",
    "layer_3_bn = BatchNormalization()(layer_3)\n",
    "layer_4 = Dense(13, activation='relu')(layer_3_bn)\n",
    "layer_4_bn = BatchNormalization()(layer_4)\n",
    "layer_5 = Dense(150, activation='relu')(layer_4_bn)\n",
    "layer_5_bn = BatchNormalization()(layer_5)\n",
    "layer_6 = Dense(500, activation='relu')(layer_5_bn)\n",
    "layer_6_bn = BatchNormalization()(layer_6)\n",
    "layer_7 = Dense(datax.shape[1], activation='linear', name='ae_output')(layer_6_bn)\n",
    "\n",
    "# Input from layer 3 (latent representations)\n",
    "layer_9 = Dense(13, activation='relu')(layer_3)\n",
    "layer_9_do = Dropout(0.1)(layer_9)\n",
    "layer_9_bn = BatchNormalization()(layer_9_do)\n",
    "\n",
    "layer_10 = Dense(25, activation='relu')(layer_9_bn)\n",
    "layer_10_do = Dropout(0.1)(layer_10)\n",
    "layer_10_bn = BatchNormalization()(layer_10_do)\n",
    "\n",
    "layer_11 = Dense(50, activation='relu')(layer_10_bn)\n",
    "layer_11_do = Dropout(0.1)(layer_11)\n",
    "layer_11_bn = BatchNormalization()(layer_11_do)\n",
    "\n",
    "layer_12 = Dense(75, activation='relu')(layer_11_bn)\n",
    "layer_12_do = Dropout(0.1)(layer_12)\n",
    "layer_12_bn = BatchNormalization()(layer_12_do)\n",
    "\n",
    "layer_13 = Dense(100, activation='relu')(layer_12_bn)\n",
    "layer_13_do = Dropout(0.1)(layer_13)\n",
    "layer_13_bn = BatchNormalization()(layer_13_do)\n",
    "\n",
    "layer_14 = Dense(75, activation='relu')(layer_13_bn)\n",
    "layer_14_do = Dropout(0.1)(layer_14)\n",
    "layer_14_bn = BatchNormalization()(layer_14_do)\n",
    "\n",
    "layer_15 = Dense(50, activation='relu')(layer_14_bn)\n",
    "layer_15_do = Dropout(0.1)(layer_15)\n",
    "layer_15_bn = BatchNormalization()(layer_15_do)\n",
    "\n",
    "layer_16 = Dense(25, activation='relu')(layer_15_bn)\n",
    "layer_16_do = Dropout(0.1)(layer_16)\n",
    "layer_16_bn = BatchNormalization()(layer_16_do)\n",
    "\n",
    "layer_17 = Dense(13, activation='softmax', name='cancer_output')(layer_16_bn)"
   ]
  },
  {
   "cell_type": "code",
   "execution_count": 15,
   "metadata": {},
   "outputs": [],
   "source": [
    "model = Model(inputs=[patient_genes],\n",
    "              outputs=[layer_7, layer_17],\n",
    "             )"
   ]
  },
  {
   "cell_type": "code",
   "execution_count": 16,
   "metadata": {},
   "outputs": [],
   "source": [
    "losses = {'cancer_output': 'categorical_crossentropy',\n",
    "          'ae_output': 'mse',\n",
    "         }\n",
    "\n",
    "opt = RMSprop(learning_rate=0.001, rho=0.9, momentum=0.0)"
   ]
  },
  {
   "cell_type": "code",
   "execution_count": 17,
   "metadata": {},
   "outputs": [],
   "source": [
    "model.compile(optimizer=opt,\n",
    "              loss=losses,\n",
    "              metrics={'cancer_output': ['accuracy', Recall(), Precision()], \n",
    "                       'ae_output': 'mse'},\n",
    "             )"
   ]
  },
  {
   "cell_type": "code",
   "execution_count": 18,
   "metadata": {},
   "outputs": [],
   "source": [
    "full_raw_data = [(datax[i],datay[i]) for i in range(datay.shape[0])]\n",
    "np.random.shuffle(full_raw_data)\n",
    "datax_train = np.array([np.array(x) for (x, _) in full_raw_data])\n",
    "datay_train = np.array([np.array(y) for (_, y) in full_raw_data])"
   ]
  },
  {
   "cell_type": "code",
   "execution_count": 19,
   "metadata": {},
   "outputs": [],
   "source": [
    "stand_datax_train = datax_train / np.max(datax_train)"
   ]
  },
  {
   "cell_type": "code",
   "execution_count": 20,
   "metadata": {},
   "outputs": [],
   "source": [
    "reduce_lr = ReduceLROnPlateau(verbose=1)"
   ]
  },
  {
   "cell_type": "code",
   "execution_count": 21,
   "metadata": {
    "scrolled": true
   },
   "outputs": [
    {
     "name": "stdout",
     "output_type": "stream",
     "text": [
      "Train on 5593 samples, validate on 2398 samples\n",
      "Epoch 1/50\n",
      "5593/5593 [==============================] - 68s 12ms/sample - loss: 2.7789 - ae_output_loss: 0.0259 - cancer_output_loss: 2.7522 - ae_output_mse: 0.0259 - cancer_output_accuracy: 0.1631 - cancer_output_recall: 0.0456 - cancer_output_precision: 0.4839 - val_loss: 2.6023 - val_ae_output_loss: 0.0086 - val_cancer_output_loss: 2.5938 - val_ae_output_mse: 0.0086 - val_cancer_output_accuracy: 0.0538 - val_cancer_output_recall: 0.0000e+00 - val_cancer_output_precision: 0.0000e+00\n",
      "Epoch 2/50\n",
      "5593/5593 [==============================] - 60s 11ms/sample - loss: 2.3355 - ae_output_loss: 0.0148 - cancer_output_loss: 2.3204 - ae_output_mse: 0.0148 - cancer_output_accuracy: 0.2782 - cancer_output_recall: 0.1455 - cancer_output_precision: 0.8332 - val_loss: 1.8276 - val_ae_output_loss: 0.0182 - val_cancer_output_loss: 1.8093 - val_ae_output_mse: 0.0182 - val_cancer_output_accuracy: 0.4254 - val_cancer_output_recall: 0.2823 - val_cancer_output_precision: 0.9883\n",
      "Epoch 3/50\n",
      "5593/5593 [==============================] - 62s 11ms/sample - loss: 2.1370 - ae_output_loss: 0.0092 - cancer_output_loss: 2.1272 - ae_output_mse: 0.0092 - cancer_output_accuracy: 0.3267 - cancer_output_recall: 0.2053 - cancer_output_precision: 0.9177 - val_loss: 1.7744 - val_ae_output_loss: 0.0419 - val_cancer_output_loss: 1.7323 - val_ae_output_mse: 0.0419 - val_cancer_output_accuracy: 0.4479 - val_cancer_output_recall: 0.3065 - val_cancer_output_precision: 0.9853\n",
      "Epoch 4/50\n",
      "5593/5593 [==============================] - 64s 11ms/sample - loss: 2.0173 - ae_output_loss: 0.0059 - cancer_output_loss: 2.0112 - ae_output_mse: 0.0059 - cancer_output_accuracy: 0.3615 - cancer_output_recall: 0.2371 - cancer_output_precision: 0.9260 - val_loss: 1.6975 - val_ae_output_loss: 0.0300 - val_cancer_output_loss: 1.6673 - val_ae_output_mse: 0.0300 - val_cancer_output_accuracy: 0.4562 - val_cancer_output_recall: 0.3065 - val_cancer_output_precision: 0.9853\n",
      "Epoch 5/50\n",
      "5593/5593 [==============================] - 68s 12ms/sample - loss: 1.9427 - ae_output_loss: 0.0043 - cancer_output_loss: 1.9386 - ae_output_mse: 0.0043 - cancer_output_accuracy: 0.3735 - cancer_output_recall: 0.2534 - cancer_output_precision: 0.9341 - val_loss: 1.7402 - val_ae_output_loss: 0.0709 - val_cancer_output_loss: 1.6692 - val_ae_output_mse: 0.0710 - val_cancer_output_accuracy: 0.4541 - val_cancer_output_recall: 0.3069 - val_cancer_output_precision: 0.9826\n",
      "Epoch 6/50\n",
      "5593/5593 [==============================] - 69s 12ms/sample - loss: 1.8771 - ae_output_loss: 0.0033 - cancer_output_loss: 1.8748 - ae_output_mse: 0.0033 - cancer_output_accuracy: 0.3823 - cancer_output_recall: 0.2630 - cancer_output_precision: 0.9460 - val_loss: 1.9987 - val_ae_output_loss: 0.1291 - val_cancer_output_loss: 1.8694 - val_ae_output_mse: 0.1292 - val_cancer_output_accuracy: 0.4462 - val_cancer_output_recall: 0.3065 - val_cancer_output_precision: 0.9620\n",
      "Epoch 7/50\n",
      "5593/5593 [==============================] - 69s 12ms/sample - loss: 1.8341 - ae_output_loss: 0.0024 - cancer_output_loss: 1.8335 - ae_output_mse: 0.0024 - cancer_output_accuracy: 0.3996 - cancer_output_recall: 0.2669 - cancer_output_precision: 0.9402 - val_loss: 1.6304 - val_ae_output_loss: 0.0113 - val_cancer_output_loss: 1.6190 - val_ae_output_mse: 0.0113 - val_cancer_output_accuracy: 0.4654 - val_cancer_output_recall: 0.3115 - val_cancer_output_precision: 0.9947\n",
      "Epoch 8/50\n",
      "5593/5593 [==============================] - 69s 12ms/sample - loss: 1.8085 - ae_output_loss: 0.0019 - cancer_output_loss: 1.8062 - ae_output_mse: 0.0019 - cancer_output_accuracy: 0.4055 - cancer_output_recall: 0.2659 - cancer_output_precision: 0.9435 - val_loss: 1.5696 - val_ae_output_loss: 0.0025 - val_cancer_output_loss: 1.5671 - val_ae_output_mse: 0.0025 - val_cancer_output_accuracy: 0.4904 - val_cancer_output_recall: 0.3073 - val_cancer_output_precision: 0.9893\n",
      "Epoch 9/50\n",
      "5593/5593 [==============================] - 71s 13ms/sample - loss: 1.7813 - ae_output_loss: 0.0014 - cancer_output_loss: 1.7797 - ae_output_mse: 0.0014 - cancer_output_accuracy: 0.4100 - cancer_output_recall: 0.2671 - cancer_output_precision: 0.9450 - val_loss: 1.4993 - val_ae_output_loss: 0.0024 - val_cancer_output_loss: 1.4968 - val_ae_output_mse: 0.0024 - val_cancer_output_accuracy: 0.4975 - val_cancer_output_recall: 0.3069 - val_cancer_output_precision: 0.9853\n",
      "Epoch 10/50\n",
      "5593/5593 [==============================] - 70s 13ms/sample - loss: 1.7403 - ae_output_loss: 0.0013 - cancer_output_loss: 1.7399 - ae_output_mse: 0.0013 - cancer_output_accuracy: 0.4150 - cancer_output_recall: 0.2712 - cancer_output_precision: 0.9547 - val_loss: 1.6276 - val_ae_output_loss: 0.0015 - val_cancer_output_loss: 1.6259 - val_ae_output_mse: 0.0015 - val_cancer_output_accuracy: 0.4929 - val_cancer_output_recall: 0.3069 - val_cancer_output_precision: 0.9774\n",
      "Epoch 11/50\n",
      "5593/5593 [==============================] - 70s 12ms/sample - loss: 1.7069 - ae_output_loss: 0.0010 - cancer_output_loss: 1.7054 - ae_output_mse: 0.0010 - cancer_output_accuracy: 0.4304 - cancer_output_recall: 0.2784 - cancer_output_precision: 0.9448 - val_loss: 1.4775 - val_ae_output_loss: 0.0129 - val_cancer_output_loss: 1.4645 - val_ae_output_mse: 0.0129 - val_cancer_output_accuracy: 0.5021 - val_cancer_output_recall: 0.3086 - val_cancer_output_precision: 0.9867\n",
      "Epoch 12/50\n",
      "5593/5593 [==============================] - 71s 13ms/sample - loss: 1.6718 - ae_output_loss: 8.0927e-04 - cancer_output_loss: 1.6716 - ae_output_mse: 8.0910e-04 - cancer_output_accuracy: 0.4368 - cancer_output_recall: 0.2798 - cancer_output_precision: 0.9450 - val_loss: 1.4412 - val_ae_output_loss: 0.0014 - val_cancer_output_loss: 1.4398 - val_ae_output_mse: 0.0014 - val_cancer_output_accuracy: 0.5058 - val_cancer_output_recall: 0.3078 - val_cancer_output_precision: 0.9933\n",
      "Epoch 13/50\n",
      "5593/5593 [==============================] - 71s 13ms/sample - loss: 1.6821 - ae_output_loss: 7.3084e-04 - cancer_output_loss: 1.6818 - ae_output_mse: 7.3008e-04 - cancer_output_accuracy: 0.4372 - cancer_output_recall: 0.2768 - cancer_output_precision: 0.9320 - val_loss: 1.4681 - val_ae_output_loss: 6.4271e-04 - val_cancer_output_loss: 1.4673 - val_ae_output_mse: 6.4304e-04 - val_cancer_output_accuracy: 0.5033 - val_cancer_output_recall: 0.3082 - val_cancer_output_precision: 1.0000\n",
      "Epoch 14/50\n",
      "5593/5593 [==============================] - 71s 13ms/sample - loss: 1.6382 - ae_output_loss: 6.5301e-04 - cancer_output_loss: 1.6377 - ae_output_mse: 6.5323e-04 - cancer_output_accuracy: 0.4427 - cancer_output_recall: 0.2811 - cancer_output_precision: 0.9522 - val_loss: 1.4300 - val_ae_output_loss: 0.0120 - val_cancer_output_loss: 1.4178 - val_ae_output_mse: 0.0120 - val_cancer_output_accuracy: 0.5071 - val_cancer_output_recall: 0.3107 - val_cancer_output_precision: 0.9973\n",
      "Epoch 15/50\n",
      "5593/5593 [==============================] - 70s 13ms/sample - loss: 1.6076 - ae_output_loss: 5.4064e-04 - cancer_output_loss: 1.6063 - ae_output_mse: 5.4089e-04 - cancer_output_accuracy: 0.4502 - cancer_output_recall: 0.2823 - cancer_output_precision: 0.9478 - val_loss: 1.4346 - val_ae_output_loss: 0.0056 - val_cancer_output_loss: 1.4288 - val_ae_output_mse: 0.0056 - val_cancer_output_accuracy: 0.5279 - val_cancer_output_recall: 0.3111 - val_cancer_output_precision: 0.9855\n",
      "Epoch 16/50\n",
      "5593/5593 [==============================] - 72s 13ms/sample - loss: 1.6132 - ae_output_loss: 5.2447e-04 - cancer_output_loss: 1.6130 - ae_output_mse: 5.2421e-04 - cancer_output_accuracy: 0.4484 - cancer_output_recall: 0.2850 - cancer_output_precision: 0.9421 - val_loss: 1.3829 - val_ae_output_loss: 0.0083 - val_cancer_output_loss: 1.3745 - val_ae_output_mse: 0.0083 - val_cancer_output_accuracy: 0.5196 - val_cancer_output_recall: 0.3111 - val_cancer_output_precision: 0.9920\n",
      "Epoch 17/50\n",
      "5593/5593 [==============================] - 73s 13ms/sample - loss: 1.5772 - ae_output_loss: 4.9401e-04 - cancer_output_loss: 1.5762 - ae_output_mse: 4.9412e-04 - cancer_output_accuracy: 0.4688 - cancer_output_recall: 0.2889 - cancer_output_precision: 0.9374 - val_loss: 1.4129 - val_ae_output_loss: 0.0034 - val_cancer_output_loss: 1.4093 - val_ae_output_mse: 0.0034 - val_cancer_output_accuracy: 0.5138 - val_cancer_output_recall: 0.3169 - val_cancer_output_precision: 0.9974\n"
     ]
    },
    {
     "name": "stdout",
     "output_type": "stream",
     "text": [
      "Epoch 18/50\n",
      "5593/5593 [==============================] - 73s 13ms/sample - loss: 1.5503 - ae_output_loss: 5.3798e-04 - cancer_output_loss: 1.5513 - ae_output_mse: 5.3727e-04 - cancer_output_accuracy: 0.4754 - cancer_output_recall: 0.2916 - cancer_output_precision: 0.9444 - val_loss: 1.3821 - val_ae_output_loss: 0.0067 - val_cancer_output_loss: 1.3752 - val_ae_output_mse: 0.0067 - val_cancer_output_accuracy: 0.5288 - val_cancer_output_recall: 0.3311 - val_cancer_output_precision: 0.9987\n",
      "Epoch 19/50\n",
      "5593/5593 [==============================] - 71s 13ms/sample - loss: 1.5014 - ae_output_loss: 5.9467e-04 - cancer_output_loss: 1.5004 - ae_output_mse: 5.9494e-04 - cancer_output_accuracy: 0.4801 - cancer_output_recall: 0.2968 - cancer_output_precision: 0.9464 - val_loss: 1.3837 - val_ae_output_loss: 0.0039 - val_cancer_output_loss: 1.3796 - val_ae_output_mse: 0.0039 - val_cancer_output_accuracy: 0.5242 - val_cancer_output_recall: 0.3165 - val_cancer_output_precision: 1.0000\n",
      "Epoch 20/50\n",
      "5593/5593 [==============================] - 73s 13ms/sample - loss: 1.4715 - ae_output_loss: 3.8906e-04 - cancer_output_loss: 1.4720 - ae_output_mse: 3.8872e-04 - cancer_output_accuracy: 0.4970 - cancer_output_recall: 0.2950 - cancer_output_precision: 0.9396 - val_loss: 1.3258 - val_ae_output_loss: 0.0025 - val_cancer_output_loss: 1.3232 - val_ae_output_mse: 0.0025 - val_cancer_output_accuracy: 0.5375 - val_cancer_output_recall: 0.3228 - val_cancer_output_precision: 0.9785\n",
      "Epoch 21/50\n",
      "5593/5593 [==============================] - 73s 13ms/sample - loss: 1.4597 - ae_output_loss: 3.4615e-04 - cancer_output_loss: 1.4589 - ae_output_mse: 3.4629e-04 - cancer_output_accuracy: 0.5028 - cancer_output_recall: 0.3007 - cancer_output_precision: 0.9391 - val_loss: 1.2992 - val_ae_output_loss: 0.0014 - val_cancer_output_loss: 1.2977 - val_ae_output_mse: 0.0014 - val_cancer_output_accuracy: 0.5509 - val_cancer_output_recall: 0.3261 - val_cancer_output_precision: 0.9799\n",
      "Epoch 22/50\n",
      "5593/5593 [==============================] - 73s 13ms/sample - loss: 1.4547 - ae_output_loss: 3.5799e-04 - cancer_output_loss: 1.4538 - ae_output_mse: 3.5740e-04 - cancer_output_accuracy: 0.5060 - cancer_output_recall: 0.2982 - cancer_output_precision: 0.9303 - val_loss: 1.3178 - val_ae_output_loss: 0.0012 - val_cancer_output_loss: 1.3164 - val_ae_output_mse: 0.0012 - val_cancer_output_accuracy: 0.5484 - val_cancer_output_recall: 0.3394 - val_cancer_output_precision: 0.9807\n",
      "Epoch 23/50\n",
      "4592/5593 [=======================>......] - ETA: 12s - loss: 1.4116 - ae_output_loss: 3.4225e-04 - cancer_output_loss: 1.4112 - ae_output_mse: 3.4225e-04 - cancer_output_accuracy: 0.5085 - cancer_output_recall: 0.3023 - cancer_output_precision: 0.9309WARNING:tensorflow:Reduce LR on plateau conditioned on metric `val_loss` which is not available. Available metrics are: loss,ae_output_loss,cancer_output_loss,ae_output_mse,cancer_output_accuracy,cancer_output_recall,cancer_output_precision,lr\n"
     ]
    },
    {
     "ename": "KeyboardInterrupt",
     "evalue": "",
     "output_type": "error",
     "traceback": [
      "\u001b[0;31m---------------------------------------------------------------------------\u001b[0m",
      "\u001b[0;31mKeyboardInterrupt\u001b[0m                         Traceback (most recent call last)",
      "\u001b[0;32m<ipython-input-21-7c3e7a93c78d>\u001b[0m in \u001b[0;36m<module>\u001b[0;34m\u001b[0m\n\u001b[1;32m      4\u001b[0m                    \u001b[0mepochs\u001b[0m\u001b[0;34m=\u001b[0m\u001b[0;36m50\u001b[0m\u001b[0;34m,\u001b[0m\u001b[0;34m\u001b[0m\u001b[0;34m\u001b[0m\u001b[0m\n\u001b[1;32m      5\u001b[0m                    \u001b[0mvalidation_split\u001b[0m\u001b[0;34m=\u001b[0m\u001b[0;36m0.3\u001b[0m\u001b[0;34m,\u001b[0m\u001b[0;34m\u001b[0m\u001b[0;34m\u001b[0m\u001b[0m\n\u001b[0;32m----> 6\u001b[0;31m                    \u001b[0mcallbacks\u001b[0m\u001b[0;34m=\u001b[0m\u001b[0;34m[\u001b[0m\u001b[0mreduce_lr\u001b[0m\u001b[0;34m]\u001b[0m\u001b[0;34m,\u001b[0m\u001b[0;34m\u001b[0m\u001b[0;34m\u001b[0m\u001b[0m\n\u001b[0m\u001b[1;32m      7\u001b[0m                    )\n",
      "\u001b[0;32m~/miniconda3/lib/python3.7/site-packages/tensorflow_core/python/keras/engine/training.py\u001b[0m in \u001b[0;36mfit\u001b[0;34m(self, x, y, batch_size, epochs, verbose, callbacks, validation_split, validation_data, shuffle, class_weight, sample_weight, initial_epoch, steps_per_epoch, validation_steps, validation_freq, max_queue_size, workers, use_multiprocessing, **kwargs)\u001b[0m\n\u001b[1;32m    726\u001b[0m         \u001b[0mmax_queue_size\u001b[0m\u001b[0;34m=\u001b[0m\u001b[0mmax_queue_size\u001b[0m\u001b[0;34m,\u001b[0m\u001b[0;34m\u001b[0m\u001b[0;34m\u001b[0m\u001b[0m\n\u001b[1;32m    727\u001b[0m         \u001b[0mworkers\u001b[0m\u001b[0;34m=\u001b[0m\u001b[0mworkers\u001b[0m\u001b[0;34m,\u001b[0m\u001b[0;34m\u001b[0m\u001b[0;34m\u001b[0m\u001b[0m\n\u001b[0;32m--> 728\u001b[0;31m         use_multiprocessing=use_multiprocessing)\n\u001b[0m\u001b[1;32m    729\u001b[0m \u001b[0;34m\u001b[0m\u001b[0m\n\u001b[1;32m    730\u001b[0m   def evaluate(self,\n",
      "\u001b[0;32m~/miniconda3/lib/python3.7/site-packages/tensorflow_core/python/keras/engine/training_v2.py\u001b[0m in \u001b[0;36mfit\u001b[0;34m(self, model, x, y, batch_size, epochs, verbose, callbacks, validation_split, validation_data, shuffle, class_weight, sample_weight, initial_epoch, steps_per_epoch, validation_steps, validation_freq, **kwargs)\u001b[0m\n\u001b[1;32m    322\u001b[0m                 \u001b[0mmode\u001b[0m\u001b[0;34m=\u001b[0m\u001b[0mModeKeys\u001b[0m\u001b[0;34m.\u001b[0m\u001b[0mTRAIN\u001b[0m\u001b[0;34m,\u001b[0m\u001b[0;34m\u001b[0m\u001b[0;34m\u001b[0m\u001b[0m\n\u001b[1;32m    323\u001b[0m                 \u001b[0mtraining_context\u001b[0m\u001b[0;34m=\u001b[0m\u001b[0mtraining_context\u001b[0m\u001b[0;34m,\u001b[0m\u001b[0;34m\u001b[0m\u001b[0;34m\u001b[0m\u001b[0m\n\u001b[0;32m--> 324\u001b[0;31m                 total_epochs=epochs)\n\u001b[0m\u001b[1;32m    325\u001b[0m             \u001b[0mcbks\u001b[0m\u001b[0;34m.\u001b[0m\u001b[0mmake_logs\u001b[0m\u001b[0;34m(\u001b[0m\u001b[0mmodel\u001b[0m\u001b[0;34m,\u001b[0m \u001b[0mepoch_logs\u001b[0m\u001b[0;34m,\u001b[0m \u001b[0mtraining_result\u001b[0m\u001b[0;34m,\u001b[0m \u001b[0mModeKeys\u001b[0m\u001b[0;34m.\u001b[0m\u001b[0mTRAIN\u001b[0m\u001b[0;34m)\u001b[0m\u001b[0;34m\u001b[0m\u001b[0;34m\u001b[0m\u001b[0m\n\u001b[1;32m    326\u001b[0m \u001b[0;34m\u001b[0m\u001b[0m\n",
      "\u001b[0;32m~/miniconda3/lib/python3.7/site-packages/tensorflow_core/python/keras/engine/training_v2.py\u001b[0m in \u001b[0;36mrun_one_epoch\u001b[0;34m(model, iterator, execution_function, dataset_size, batch_size, strategy, steps_per_epoch, num_samples, mode, training_context, total_epochs)\u001b[0m\n\u001b[1;32m    119\u001b[0m       \u001b[0mcurrent_batch_size\u001b[0m \u001b[0;34m=\u001b[0m \u001b[0mnum_samples\u001b[0m \u001b[0;34m-\u001b[0m \u001b[0mstep\u001b[0m \u001b[0;34m*\u001b[0m \u001b[0mbatch_size\u001b[0m\u001b[0;34m\u001b[0m\u001b[0;34m\u001b[0m\u001b[0m\n\u001b[1;32m    120\u001b[0m     with training_context.on_batch(\n\u001b[0;32m--> 121\u001b[0;31m         step=step, mode=mode, size=current_batch_size) as batch_logs:\n\u001b[0m\u001b[1;32m    122\u001b[0m       \u001b[0;32mtry\u001b[0m\u001b[0;34m:\u001b[0m\u001b[0;34m\u001b[0m\u001b[0;34m\u001b[0m\u001b[0m\n\u001b[1;32m    123\u001b[0m         \u001b[0mbatch_outs\u001b[0m \u001b[0;34m=\u001b[0m \u001b[0mexecution_function\u001b[0m\u001b[0;34m(\u001b[0m\u001b[0miterator\u001b[0m\u001b[0;34m)\u001b[0m\u001b[0;34m\u001b[0m\u001b[0;34m\u001b[0m\u001b[0m\n",
      "\u001b[0;32m~/miniconda3/lib/python3.7/contextlib.py\u001b[0m in \u001b[0;36m__enter__\u001b[0;34m(self)\u001b[0m\n\u001b[1;32m    110\u001b[0m         \u001b[0;32mdel\u001b[0m \u001b[0mself\u001b[0m\u001b[0;34m.\u001b[0m\u001b[0margs\u001b[0m\u001b[0;34m,\u001b[0m \u001b[0mself\u001b[0m\u001b[0;34m.\u001b[0m\u001b[0mkwds\u001b[0m\u001b[0;34m,\u001b[0m \u001b[0mself\u001b[0m\u001b[0;34m.\u001b[0m\u001b[0mfunc\u001b[0m\u001b[0;34m\u001b[0m\u001b[0;34m\u001b[0m\u001b[0m\n\u001b[1;32m    111\u001b[0m         \u001b[0;32mtry\u001b[0m\u001b[0;34m:\u001b[0m\u001b[0;34m\u001b[0m\u001b[0;34m\u001b[0m\u001b[0m\n\u001b[0;32m--> 112\u001b[0;31m             \u001b[0;32mreturn\u001b[0m \u001b[0mnext\u001b[0m\u001b[0;34m(\u001b[0m\u001b[0mself\u001b[0m\u001b[0;34m.\u001b[0m\u001b[0mgen\u001b[0m\u001b[0;34m)\u001b[0m\u001b[0;34m\u001b[0m\u001b[0;34m\u001b[0m\u001b[0m\n\u001b[0m\u001b[1;32m    113\u001b[0m         \u001b[0;32mexcept\u001b[0m \u001b[0mStopIteration\u001b[0m\u001b[0;34m:\u001b[0m\u001b[0;34m\u001b[0m\u001b[0;34m\u001b[0m\u001b[0m\n\u001b[1;32m    114\u001b[0m             \u001b[0;32mraise\u001b[0m \u001b[0mRuntimeError\u001b[0m\u001b[0;34m(\u001b[0m\u001b[0;34m\"generator didn't yield\"\u001b[0m\u001b[0;34m)\u001b[0m \u001b[0;32mfrom\u001b[0m \u001b[0;32mNone\u001b[0m\u001b[0;34m\u001b[0m\u001b[0;34m\u001b[0m\u001b[0m\n",
      "\u001b[0;32m~/miniconda3/lib/python3.7/site-packages/tensorflow_core/python/keras/engine/training_v2.py\u001b[0m in \u001b[0;36mon_batch\u001b[0;34m(self, step, mode, size)\u001b[0m\n\u001b[1;32m    691\u001b[0m     \u001b[0mbatch_logs\u001b[0m \u001b[0;34m=\u001b[0m \u001b[0;34m{\u001b[0m\u001b[0;34m'batch'\u001b[0m\u001b[0;34m:\u001b[0m \u001b[0mstep\u001b[0m\u001b[0;34m,\u001b[0m \u001b[0;34m'size'\u001b[0m\u001b[0;34m:\u001b[0m \u001b[0msize\u001b[0m\u001b[0;34m}\u001b[0m\u001b[0;34m\u001b[0m\u001b[0;34m\u001b[0m\u001b[0m\n\u001b[1;32m    692\u001b[0m     self.callbacks._call_batch_hook(\n\u001b[0;32m--> 693\u001b[0;31m         mode, 'begin', step, batch_logs)\n\u001b[0m\u001b[1;32m    694\u001b[0m     \u001b[0mself\u001b[0m\u001b[0;34m.\u001b[0m\u001b[0mprogbar\u001b[0m\u001b[0;34m.\u001b[0m\u001b[0mon_batch_begin\u001b[0m\u001b[0;34m(\u001b[0m\u001b[0mstep\u001b[0m\u001b[0;34m,\u001b[0m \u001b[0mbatch_logs\u001b[0m\u001b[0;34m)\u001b[0m\u001b[0;34m\u001b[0m\u001b[0;34m\u001b[0m\u001b[0m\n\u001b[1;32m    695\u001b[0m     \u001b[0;32mtry\u001b[0m\u001b[0;34m:\u001b[0m\u001b[0;34m\u001b[0m\u001b[0;34m\u001b[0m\u001b[0m\n",
      "\u001b[0;32m~/miniconda3/lib/python3.7/site-packages/tensorflow_core/python/keras/callbacks.py\u001b[0m in \u001b[0;36m_call_batch_hook\u001b[0;34m(self, mode, hook, batch, logs)\u001b[0m\n\u001b[1;32m    236\u001b[0m     \u001b[0mself\u001b[0m\u001b[0;34m.\u001b[0m\u001b[0m_delta_ts\u001b[0m\u001b[0;34m[\u001b[0m\u001b[0mhook_name\u001b[0m\u001b[0;34m]\u001b[0m\u001b[0;34m.\u001b[0m\u001b[0mappend\u001b[0m\u001b[0;34m(\u001b[0m\u001b[0mtime\u001b[0m\u001b[0;34m.\u001b[0m\u001b[0mtime\u001b[0m\u001b[0;34m(\u001b[0m\u001b[0;34m)\u001b[0m \u001b[0;34m-\u001b[0m \u001b[0mt_before_callbacks\u001b[0m\u001b[0;34m)\u001b[0m\u001b[0;34m\u001b[0m\u001b[0;34m\u001b[0m\u001b[0m\n\u001b[1;32m    237\u001b[0m \u001b[0;34m\u001b[0m\u001b[0m\n\u001b[0;32m--> 238\u001b[0;31m     \u001b[0mdelta_t_median\u001b[0m \u001b[0;34m=\u001b[0m \u001b[0mnp\u001b[0m\u001b[0;34m.\u001b[0m\u001b[0mmedian\u001b[0m\u001b[0;34m(\u001b[0m\u001b[0mself\u001b[0m\u001b[0;34m.\u001b[0m\u001b[0m_delta_ts\u001b[0m\u001b[0;34m[\u001b[0m\u001b[0mhook_name\u001b[0m\u001b[0;34m]\u001b[0m\u001b[0;34m)\u001b[0m\u001b[0;34m\u001b[0m\u001b[0;34m\u001b[0m\u001b[0m\n\u001b[0m\u001b[1;32m    239\u001b[0m     if (self._delta_t_batch > 0. and\n\u001b[1;32m    240\u001b[0m         delta_t_median > 0.95 * self._delta_t_batch and delta_t_median > 0.1):\n",
      "\u001b[0;32m<__array_function__ internals>\u001b[0m in \u001b[0;36mmedian\u001b[0;34m(*args, **kwargs)\u001b[0m\n",
      "\u001b[0;32m~/miniconda3/lib/python3.7/site-packages/numpy/lib/function_base.py\u001b[0m in \u001b[0;36mmedian\u001b[0;34m(a, axis, out, overwrite_input, keepdims)\u001b[0m\n\u001b[1;32m   3493\u001b[0m     \"\"\"\n\u001b[1;32m   3494\u001b[0m     r, k = _ureduce(a, func=_median, axis=axis, out=out,\n\u001b[0;32m-> 3495\u001b[0;31m                     overwrite_input=overwrite_input)\n\u001b[0m\u001b[1;32m   3496\u001b[0m     \u001b[0;32mif\u001b[0m \u001b[0mkeepdims\u001b[0m\u001b[0;34m:\u001b[0m\u001b[0;34m\u001b[0m\u001b[0;34m\u001b[0m\u001b[0m\n\u001b[1;32m   3497\u001b[0m         \u001b[0;32mreturn\u001b[0m \u001b[0mr\u001b[0m\u001b[0;34m.\u001b[0m\u001b[0mreshape\u001b[0m\u001b[0;34m(\u001b[0m\u001b[0mk\u001b[0m\u001b[0;34m)\u001b[0m\u001b[0;34m\u001b[0m\u001b[0;34m\u001b[0m\u001b[0m\n",
      "\u001b[0;32m~/miniconda3/lib/python3.7/site-packages/numpy/lib/function_base.py\u001b[0m in \u001b[0;36m_ureduce\u001b[0;34m(a, func, **kwargs)\u001b[0m\n\u001b[1;32m   3401\u001b[0m         \u001b[0mkeepdim\u001b[0m \u001b[0;34m=\u001b[0m \u001b[0;34m(\u001b[0m\u001b[0;36m1\u001b[0m\u001b[0;34m,\u001b[0m\u001b[0;34m)\u001b[0m \u001b[0;34m*\u001b[0m \u001b[0ma\u001b[0m\u001b[0;34m.\u001b[0m\u001b[0mndim\u001b[0m\u001b[0;34m\u001b[0m\u001b[0;34m\u001b[0m\u001b[0m\n\u001b[1;32m   3402\u001b[0m \u001b[0;34m\u001b[0m\u001b[0m\n\u001b[0;32m-> 3403\u001b[0;31m     \u001b[0mr\u001b[0m \u001b[0;34m=\u001b[0m \u001b[0mfunc\u001b[0m\u001b[0;34m(\u001b[0m\u001b[0ma\u001b[0m\u001b[0;34m,\u001b[0m \u001b[0;34m**\u001b[0m\u001b[0mkwargs\u001b[0m\u001b[0;34m)\u001b[0m\u001b[0;34m\u001b[0m\u001b[0;34m\u001b[0m\u001b[0m\n\u001b[0m\u001b[1;32m   3404\u001b[0m     \u001b[0;32mreturn\u001b[0m \u001b[0mr\u001b[0m\u001b[0;34m,\u001b[0m \u001b[0mkeepdim\u001b[0m\u001b[0;34m\u001b[0m\u001b[0;34m\u001b[0m\u001b[0m\n\u001b[1;32m   3405\u001b[0m \u001b[0;34m\u001b[0m\u001b[0m\n",
      "\u001b[0;32m~/miniconda3/lib/python3.7/site-packages/numpy/lib/function_base.py\u001b[0m in \u001b[0;36m_median\u001b[0;34m(a, axis, out, overwrite_input)\u001b[0m\n\u001b[1;32m   3546\u001b[0m     \u001b[0;32mif\u001b[0m \u001b[0mnp\u001b[0m\u001b[0;34m.\u001b[0m\u001b[0missubdtype\u001b[0m\u001b[0;34m(\u001b[0m\u001b[0ma\u001b[0m\u001b[0;34m.\u001b[0m\u001b[0mdtype\u001b[0m\u001b[0;34m,\u001b[0m \u001b[0mnp\u001b[0m\u001b[0;34m.\u001b[0m\u001b[0minexact\u001b[0m\u001b[0;34m)\u001b[0m \u001b[0;32mand\u001b[0m \u001b[0msz\u001b[0m \u001b[0;34m>\u001b[0m \u001b[0;36m0\u001b[0m\u001b[0;34m:\u001b[0m\u001b[0;34m\u001b[0m\u001b[0;34m\u001b[0m\u001b[0m\n\u001b[1;32m   3547\u001b[0m         \u001b[0;31m# warn and return nans like mean would\u001b[0m\u001b[0;34m\u001b[0m\u001b[0;34m\u001b[0m\u001b[0;34m\u001b[0m\u001b[0m\n\u001b[0;32m-> 3548\u001b[0;31m         \u001b[0mrout\u001b[0m \u001b[0;34m=\u001b[0m \u001b[0mmean\u001b[0m\u001b[0;34m(\u001b[0m\u001b[0mpart\u001b[0m\u001b[0;34m[\u001b[0m\u001b[0mindexer\u001b[0m\u001b[0;34m]\u001b[0m\u001b[0;34m,\u001b[0m \u001b[0maxis\u001b[0m\u001b[0;34m=\u001b[0m\u001b[0maxis\u001b[0m\u001b[0;34m,\u001b[0m \u001b[0mout\u001b[0m\u001b[0;34m=\u001b[0m\u001b[0mout\u001b[0m\u001b[0;34m)\u001b[0m\u001b[0;34m\u001b[0m\u001b[0;34m\u001b[0m\u001b[0m\n\u001b[0m\u001b[1;32m   3549\u001b[0m         \u001b[0;32mreturn\u001b[0m \u001b[0mnp\u001b[0m\u001b[0;34m.\u001b[0m\u001b[0mlib\u001b[0m\u001b[0;34m.\u001b[0m\u001b[0mutils\u001b[0m\u001b[0;34m.\u001b[0m\u001b[0m_median_nancheck\u001b[0m\u001b[0;34m(\u001b[0m\u001b[0mpart\u001b[0m\u001b[0;34m,\u001b[0m \u001b[0mrout\u001b[0m\u001b[0;34m,\u001b[0m \u001b[0maxis\u001b[0m\u001b[0;34m,\u001b[0m \u001b[0mout\u001b[0m\u001b[0;34m)\u001b[0m\u001b[0;34m\u001b[0m\u001b[0;34m\u001b[0m\u001b[0m\n\u001b[1;32m   3550\u001b[0m     \u001b[0;32melse\u001b[0m\u001b[0;34m:\u001b[0m\u001b[0;34m\u001b[0m\u001b[0;34m\u001b[0m\u001b[0m\n",
      "\u001b[0;32m<__array_function__ internals>\u001b[0m in \u001b[0;36mmean\u001b[0;34m(*args, **kwargs)\u001b[0m\n",
      "\u001b[0;32m~/miniconda3/lib/python3.7/site-packages/numpy/core/fromnumeric.py\u001b[0m in \u001b[0;36mmean\u001b[0;34m(a, axis, dtype, out, keepdims)\u001b[0m\n\u001b[1;32m   3333\u001b[0m \u001b[0;34m\u001b[0m\u001b[0m\n\u001b[1;32m   3334\u001b[0m     return _methods._mean(a, axis=axis, dtype=dtype,\n\u001b[0;32m-> 3335\u001b[0;31m                           out=out, **kwargs)\n\u001b[0m\u001b[1;32m   3336\u001b[0m \u001b[0;34m\u001b[0m\u001b[0m\n\u001b[1;32m   3337\u001b[0m \u001b[0;34m\u001b[0m\u001b[0m\n",
      "\u001b[0;32m~/miniconda3/lib/python3.7/site-packages/numpy/core/_methods.py\u001b[0m in \u001b[0;36m_mean\u001b[0;34m(a, axis, dtype, out, keepdims)\u001b[0m\n\u001b[1;32m    133\u001b[0m \u001b[0;34m\u001b[0m\u001b[0m\n\u001b[1;32m    134\u001b[0m \u001b[0;32mdef\u001b[0m \u001b[0m_mean\u001b[0m\u001b[0;34m(\u001b[0m\u001b[0ma\u001b[0m\u001b[0;34m,\u001b[0m \u001b[0maxis\u001b[0m\u001b[0;34m=\u001b[0m\u001b[0;32mNone\u001b[0m\u001b[0;34m,\u001b[0m \u001b[0mdtype\u001b[0m\u001b[0;34m=\u001b[0m\u001b[0;32mNone\u001b[0m\u001b[0;34m,\u001b[0m \u001b[0mout\u001b[0m\u001b[0;34m=\u001b[0m\u001b[0;32mNone\u001b[0m\u001b[0;34m,\u001b[0m \u001b[0mkeepdims\u001b[0m\u001b[0;34m=\u001b[0m\u001b[0;32mFalse\u001b[0m\u001b[0;34m)\u001b[0m\u001b[0;34m:\u001b[0m\u001b[0;34m\u001b[0m\u001b[0;34m\u001b[0m\u001b[0m\n\u001b[0;32m--> 135\u001b[0;31m     \u001b[0marr\u001b[0m \u001b[0;34m=\u001b[0m \u001b[0masanyarray\u001b[0m\u001b[0;34m(\u001b[0m\u001b[0ma\u001b[0m\u001b[0;34m)\u001b[0m\u001b[0;34m\u001b[0m\u001b[0;34m\u001b[0m\u001b[0m\n\u001b[0m\u001b[1;32m    136\u001b[0m \u001b[0;34m\u001b[0m\u001b[0m\n\u001b[1;32m    137\u001b[0m     \u001b[0mis_float16_result\u001b[0m \u001b[0;34m=\u001b[0m \u001b[0;32mFalse\u001b[0m\u001b[0;34m\u001b[0m\u001b[0;34m\u001b[0m\u001b[0m\n",
      "\u001b[0;32m~/miniconda3/lib/python3.7/site-packages/numpy/core/_asarray.py\u001b[0m in \u001b[0;36masanyarray\u001b[0;34m(a, dtype, order)\u001b[0m\n\u001b[1;32m    136\u001b[0m \u001b[0;34m\u001b[0m\u001b[0m\n\u001b[1;32m    137\u001b[0m     \"\"\"\n\u001b[0;32m--> 138\u001b[0;31m     \u001b[0;32mreturn\u001b[0m \u001b[0marray\u001b[0m\u001b[0;34m(\u001b[0m\u001b[0ma\u001b[0m\u001b[0;34m,\u001b[0m \u001b[0mdtype\u001b[0m\u001b[0;34m,\u001b[0m \u001b[0mcopy\u001b[0m\u001b[0;34m=\u001b[0m\u001b[0;32mFalse\u001b[0m\u001b[0;34m,\u001b[0m \u001b[0morder\u001b[0m\u001b[0;34m=\u001b[0m\u001b[0morder\u001b[0m\u001b[0;34m,\u001b[0m \u001b[0msubok\u001b[0m\u001b[0;34m=\u001b[0m\u001b[0;32mTrue\u001b[0m\u001b[0;34m)\u001b[0m\u001b[0;34m\u001b[0m\u001b[0;34m\u001b[0m\u001b[0m\n\u001b[0m\u001b[1;32m    139\u001b[0m \u001b[0;34m\u001b[0m\u001b[0m\n\u001b[1;32m    140\u001b[0m \u001b[0;34m\u001b[0m\u001b[0m\n",
      "\u001b[0;31mKeyboardInterrupt\u001b[0m: "
     ]
    }
   ],
   "source": [
    "history = model.fit(stand_datax_train[500:],\n",
    "                   {\"ae_output\": stand_datax_train[500:], \"cancer_output\": datay_train[500:]},\n",
    "                   batch_size=16, \n",
    "                   epochs=50,\n",
    "                   validation_split=0.4,\n",
    "                   callbacks=[reduce_lr],\n",
    "                   )"
   ]
  },
  {
   "cell_type": "code",
   "execution_count": null,
   "metadata": {},
   "outputs": [],
   "source": [
    "# Evaluate full network\n",
    "model.evaluate(stand_datax_train[:500],\n",
    "               {\"ae_output\": stand_datax_train[:500], \"cancer_output\": datay_train[:500]},\n",
    "               )"
   ]
  },
  {
   "cell_type": "code",
   "execution_count": null,
   "metadata": {},
   "outputs": [],
   "source": [
    "model.save_weights('classifier_weights')\n",
    "model.save()"
   ]
  },
  {
   "cell_type": "markdown",
   "metadata": {},
   "source": [
    "# Interpretability"
   ]
  },
  {
   "cell_type": "code",
   "execution_count": null,
   "metadata": {},
   "outputs": [],
   "source": [
    "# SHAP libraries for neural network\n",
    "from shap import GradientExplainer\n",
    "from shap import decision_plot, summary_plot, multioutput_decision_plot"
   ]
  },
  {
   "cell_type": "markdown",
   "metadata": {},
   "source": [
    "### Might want to try other backgrounds. Plots are not making sense.\n",
    "### Try LIME"
   ]
  },
  {
   "cell_type": "code",
   "execution_count": null,
   "metadata": {
    "scrolled": true
   },
   "outputs": [],
   "source": [
    "background = np.zeros((13, stand_datax_train.shape[1]))\n",
    "summary_background = np.zeros((1, stand_datax_train.shape[1]))\n",
    "index_to_explain = 23"
   ]
  },
  {
   "cell_type": "code",
   "execution_count": null,
   "metadata": {},
   "outputs": [],
   "source": [
    "explainer = GradientExplainer(full_nn, background)\n",
    "to_explain = stand_datax_train[index_to_explain]"
   ]
  },
  {
   "cell_type": "code",
   "execution_count": null,
   "metadata": {},
   "outputs": [],
   "source": [
    "print(to_explain)\n",
    "print(datay_train[index_to_explain])"
   ]
  },
  {
   "cell_type": "code",
   "execution_count": null,
   "metadata": {},
   "outputs": [],
   "source": [
    "list(cancer_types)[np.argmax(datay_train[index_to_explain])]"
   ]
  },
  {
   "cell_type": "code",
   "execution_count": null,
   "metadata": {},
   "outputs": [],
   "source": [
    "prediction_ov = full_nn(stand_datax_train[index_to_explain].reshape(1, stand_datax_train[1].shape[0]))"
   ]
  },
  {
   "cell_type": "code",
   "execution_count": null,
   "metadata": {},
   "outputs": [],
   "source": [
    "list(cancer_types)[np.argmax(prediction_ov)]"
   ]
  },
  {
   "cell_type": "markdown",
   "metadata": {},
   "source": [
    "## Explain a patient"
   ]
  },
  {
   "cell_type": "code",
   "execution_count": null,
   "metadata": {},
   "outputs": [],
   "source": [
    "to_explain = to_explain.reshape(1, to_explain.shape[0])"
   ]
  },
  {
   "cell_type": "code",
   "execution_count": null,
   "metadata": {},
   "outputs": [],
   "source": [
    "# cannot do entire dataset. Pull one example of interest and perform analysis\n",
    "shap_vals = explainer.shap_values(X=to_explain, ranked_outputs=None)"
   ]
  },
  {
   "cell_type": "code",
   "execution_count": null,
   "metadata": {
    "scrolled": false
   },
   "outputs": [],
   "source": [
    "# this won't make sense for one example. Used for whole dataset.\n",
    "summary_plot(shap_vals, \n",
    "             to_explain, \n",
    "             gene_names, \n",
    "             class_names=list(cancer_types), \n",
    "             color=plt.get_cmap(\"tab20c\"),\n",
    "             max_display=30\n",
    "            )"
   ]
  },
  {
   "cell_type": "code",
   "execution_count": null,
   "metadata": {},
   "outputs": [],
   "source": [
    "def get_gene_names(gene_codes, ensemble_obj=None):\n",
    "    gene_names = []\n",
    "    for gene in gene_codes:\n",
    "        try:\n",
    "            gene_info = ensemble_obj.gene_by_id(gene_id=gene)\n",
    "            gene_names.append(gene_info.gene_name + '(' + gene_info.biotype + ')')\n",
    "        except ValueError:\n",
    "            gene_names.append('GENE NOT FOUND')\n",
    "    return gene_names"
   ]
  },
  {
   "cell_type": "code",
   "execution_count": null,
   "metadata": {},
   "outputs": [],
   "source": [
    "# get class names\n",
    "list(cancer_types)"
   ]
  },
  {
   "cell_type": "code",
   "execution_count": null,
   "metadata": {},
   "outputs": [],
   "source": [
    "np.unique(to_explain[0], return_index=True, return_counts=True)"
   ]
  },
  {
   "cell_type": "code",
   "execution_count": null,
   "metadata": {},
   "outputs": [],
   "source": []
  },
  {
   "cell_type": "code",
   "execution_count": null,
   "metadata": {},
   "outputs": [],
   "source": [
    "from pyensembl import EnsemblRelease"
   ]
  },
  {
   "cell_type": "code",
   "execution_count": null,
   "metadata": {},
   "outputs": [],
   "source": [
    "gene_names = get_gene_names(gene_labels, ensemble_obj=EnsemblRelease(77))"
   ]
  },
  {
   "cell_type": "code",
   "execution_count": null,
   "metadata": {},
   "outputs": [],
   "source": [
    "cancer_predictions = full_nn(stand_datax_train)"
   ]
  },
  {
   "cell_type": "code",
   "execution_count": null,
   "metadata": {},
   "outputs": [],
   "source": [
    "np.argmax(cancer_predictions[index_to_explain])"
   ]
  },
  {
   "cell_type": "code",
   "execution_count": null,
   "metadata": {},
   "outputs": [],
   "source": []
  },
  {
   "cell_type": "code",
   "execution_count": null,
   "metadata": {},
   "outputs": [],
   "source": [
    "multioutput_decision_plot(base_values=list(background),\n",
    "                          shap_values=shap_vals,\n",
    "                          row_index=index_to_explain,\n",
    "                          feature_names=gene_names,\n",
    "                          highlight=[np.argmax(cancer_predictions[index_to_explain])],\n",
    "                          legend_labels=list(cancer_types),\n",
    "                         )"
   ]
  },
  {
   "cell_type": "code",
   "execution_count": null,
   "metadata": {},
   "outputs": [],
   "source": []
  },
  {
   "cell_type": "code",
   "execution_count": null,
   "metadata": {},
   "outputs": [],
   "source": []
  }
 ],
 "metadata": {
  "kernelspec": {
   "display_name": "Python 3",
   "language": "python",
   "name": "python3"
  },
  "language_info": {
   "codemirror_mode": {
    "name": "ipython",
    "version": 3
   },
   "file_extension": ".py",
   "mimetype": "text/x-python",
   "name": "python",
   "nbconvert_exporter": "python",
   "pygments_lexer": "ipython3",
   "version": "3.7.4"
  }
 },
 "nbformat": 4,
 "nbformat_minor": 4
}
